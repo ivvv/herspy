{
 "cells": [
  {
   "cell_type": "markdown",
   "metadata": {},
   "source": [
    "## Finding Herschel `OBSID` for a sky source\n",
    "\n",
    "Using the TAP interface to the Herschel Science Archive"
   ]
  },
  {
   "cell_type": "code",
   "execution_count": 32,
   "metadata": {},
   "outputs": [],
   "source": [
    "import requests\n",
    "from astropy.coordinates import SkyCoord\n",
    "from astropy import units as u\n",
    "import pandas as pd\n",
    "from io import StringIO"
   ]
  },
  {
   "cell_type": "code",
   "execution_count": 80,
   "metadata": {},
   "outputs": [],
   "source": [
    "#\n",
    "#ra=251.572\n",
    "#dec = 36.759\n",
    "#c = SkyCoord(ra, dec, frame='icrs', unit='deg')\n",
    "ra = \"11h51m51s\"\n",
    "dec= \"-79d21m19s\"\n",
    "c = SkyCoord(ra, dec, frame='icrs')\n",
    "#"
   ]
  },
  {
   "cell_type": "code",
   "execution_count": 81,
   "metadata": {},
   "outputs": [
    {
     "name": "stdout",
     "output_type": "stream",
     "text": [
      "Search in v_active_observation for observations that intersect with circle('ICRS',177.9625,-79.3553,0.0083)\n",
      "Found 6 observations\n"
     ]
    }
   ],
   "source": [
    "#\n",
    "#\n",
    "tap_url = 'http://archives.esac.esa.int/hsa/whsa-tap-server/tap/sync?REQUEST=doQuery&LANG=ADQL&FORMAT=csv&'\n",
    "tap_cat = \"v_active_observation\"\n",
    "radius = 30.0/3600.0 # 30 arcsec circle\n",
    "circle = f\"circle('ICRS',{c.ra.value:.4f},{c.dec.value:.4f},{radius:.4f})\"\n",
    "#dist = f\"DISTANCE(POINT('ICRS',t.ra,t.dec),POINT('ICRS',{c.ra.value:.4f},{c.dec.value:.4f}))\"\n",
    "# \n",
    "print (f\"Search in {tap_cat} for observations that intersect with {circle}\")\n",
    "#\n",
    "query = f\"QUERY=select top 100 t.observation_id,t.od_number,t.target_name,t.ra,t.dec,t2.observing_mode_name\" + \\\n",
    "    \" from v_active_observation as t, observing_mode as t2 \" + \\\n",
    "    \" WHERE \" + \\\n",
    "    \" (t.observing_mode_oid=t2.observing_mode_oid) and \" + \\\n",
    "    f\"(1=intersects(polygon_fov,{circle}))\"\n",
    "xreq = tap_url + query\n",
    "with requests.get(xreq) as r:\n",
    "    jx = r.content.decode()\n",
    "#\n",
    "if (\"ERROR\" in jx):\n",
    "    print (\"The query resulted in an error, please correct.\")\n",
    "    raise Exception\n",
    "else:\n",
    "    buff = StringIO(jx)\n",
    "    df = pd.read_csv(buff, sep=\",\")\n",
    "    nfound = df.shape[0]\n",
    "    print (f\"Found {nfound} observations\")"
   ]
  },
  {
   "cell_type": "code",
   "execution_count": 82,
   "metadata": {},
   "outputs": [
    {
     "data": {
      "text/html": [
       "<div>\n",
       "<style scoped>\n",
       "    .dataframe tbody tr th:only-of-type {\n",
       "        vertical-align: middle;\n",
       "    }\n",
       "\n",
       "    .dataframe tbody tr th {\n",
       "        vertical-align: top;\n",
       "    }\n",
       "\n",
       "    .dataframe thead th {\n",
       "        text-align: right;\n",
       "    }\n",
       "</style>\n",
       "<table border=\"1\" class=\"dataframe\">\n",
       "  <thead>\n",
       "    <tr style=\"text-align: right;\">\n",
       "      <th></th>\n",
       "      <th>observation_id</th>\n",
       "      <th>od_number</th>\n",
       "      <th>target_name</th>\n",
       "      <th>ra</th>\n",
       "      <th>dec</th>\n",
       "      <th>observing_mode_name</th>\n",
       "    </tr>\n",
       "  </thead>\n",
       "  <tbody>\n",
       "    <tr>\n",
       "      <th>0</th>\n",
       "      <td>1342211293</td>\n",
       "      <td>583</td>\n",
       "      <td>DC300-17</td>\n",
       "      <td>177.542254</td>\n",
       "      <td>-79.383009</td>\n",
       "      <td>SpirePacsParallel</td>\n",
       "    </tr>\n",
       "    <tr>\n",
       "      <th>1</th>\n",
       "      <td>1342193045</td>\n",
       "      <td>320</td>\n",
       "      <td>DC300-17-c2</td>\n",
       "      <td>178.244806</td>\n",
       "      <td>-79.386568</td>\n",
       "      <td>PacsPhoto</td>\n",
       "    </tr>\n",
       "    <tr>\n",
       "      <th>2</th>\n",
       "      <td>1342193044</td>\n",
       "      <td>320</td>\n",
       "      <td>DC300-17-c2</td>\n",
       "      <td>178.244806</td>\n",
       "      <td>-79.386568</td>\n",
       "      <td>PacsPhoto</td>\n",
       "    </tr>\n",
       "    <tr>\n",
       "      <th>3</th>\n",
       "      <td>1342212300</td>\n",
       "      <td>600</td>\n",
       "      <td>DC300-17</td>\n",
       "      <td>177.542254</td>\n",
       "      <td>-79.383009</td>\n",
       "      <td>SpirePacsParallel</td>\n",
       "    </tr>\n",
       "    <tr>\n",
       "      <th>4</th>\n",
       "      <td>1342211293</td>\n",
       "      <td>583</td>\n",
       "      <td>DC300-17</td>\n",
       "      <td>178.503108</td>\n",
       "      <td>-79.378926</td>\n",
       "      <td>SpirePacsParallel</td>\n",
       "    </tr>\n",
       "    <tr>\n",
       "      <th>5</th>\n",
       "      <td>1342212300</td>\n",
       "      <td>600</td>\n",
       "      <td>DC300-17</td>\n",
       "      <td>178.508450</td>\n",
       "      <td>-79.379248</td>\n",
       "      <td>SpirePacsParallel</td>\n",
       "    </tr>\n",
       "  </tbody>\n",
       "</table>\n",
       "</div>"
      ],
      "text/plain": [
       "   observation_id  od_number  target_name          ra        dec  \\\n",
       "0      1342211293        583     DC300-17  177.542254 -79.383009   \n",
       "1      1342193045        320  DC300-17-c2  178.244806 -79.386568   \n",
       "2      1342193044        320  DC300-17-c2  178.244806 -79.386568   \n",
       "3      1342212300        600     DC300-17  177.542254 -79.383009   \n",
       "4      1342211293        583     DC300-17  178.503108 -79.378926   \n",
       "5      1342212300        600     DC300-17  178.508450 -79.379248   \n",
       "\n",
       "  observing_mode_name  \n",
       "0   SpirePacsParallel  \n",
       "1           PacsPhoto  \n",
       "2           PacsPhoto  \n",
       "3   SpirePacsParallel  \n",
       "4   SpirePacsParallel  \n",
       "5   SpirePacsParallel  "
      ]
     },
     "execution_count": 82,
     "metadata": {},
     "output_type": "execute_result"
    }
   ],
   "source": [
    "#\n",
    "df"
   ]
  },
  {
   "cell_type": "code",
   "execution_count": null,
   "metadata": {},
   "outputs": [],
   "source": []
  },
  {
   "cell_type": "code",
   "execution_count": 83,
   "metadata": {},
   "outputs": [],
   "source": [
    "inst_select = \"PacsPhoto\"\n",
    "if (nfound > 0):\n",
    "    out_df = df.query(f\"observing_mode_name == '{inst_select}'\")\n",
    "    nout = out_df.shape[0]"
   ]
  },
  {
   "cell_type": "code",
   "execution_count": 85,
   "metadata": {},
   "outputs": [
    {
     "name": "stdout",
     "output_type": "stream",
     "text": [
      "177.96250,-79.35528,2,PacsPhoto,1342193045,1342193044,\n"
     ]
    }
   ],
   "source": [
    "#\n",
    "print (f\"{c.ra.value:.5f},{c.dec.value:.5f},{nout},{inst_select},\",end=\"\")\n",
    "for j in range(nout):\n",
    "    print (f\"{out_df['observation_id'].iloc[j]:10},\",end=\"\")\n",
    "print()"
   ]
  },
  {
   "cell_type": "code",
   "execution_count": 64,
   "metadata": {},
   "outputs": [
    {
     "data": {
      "text/plain": [
       "1342225443"
      ]
     },
     "execution_count": 64,
     "metadata": {},
     "output_type": "execute_result"
    }
   ],
   "source": []
  },
  {
   "cell_type": "code",
   "execution_count": null,
   "metadata": {},
   "outputs": [],
   "source": []
  }
 ],
 "metadata": {
  "kernelspec": {
   "display_name": "Python 3",
   "language": "python",
   "name": "python3"
  },
  "language_info": {
   "codemirror_mode": {
    "name": "ipython",
    "version": 3
   },
   "file_extension": ".py",
   "mimetype": "text/x-python",
   "name": "python",
   "nbconvert_exporter": "python",
   "pygments_lexer": "ipython3",
   "version": "3.7.1"
  }
 },
 "nbformat": 4,
 "nbformat_minor": 2
}
