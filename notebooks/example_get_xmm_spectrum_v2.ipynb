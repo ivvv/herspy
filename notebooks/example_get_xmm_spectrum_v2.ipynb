{
 "cells": [
  {
   "cell_type": "markdown",
   "metadata": {},
   "source": [
    "# Downloading products from the XMM-Newton archive (NXSA)\n",
    "\n",
    "The XMM-Newton Science Archive (NXSA) allows access to the content via [TAP queries](http://www.ivoa.net/documents/TAP/) and direct URL access to the products. "
   ]
  },
  {
   "cell_type": "code",
   "execution_count": 1,
   "metadata": {},
   "outputs": [],
   "source": [
    "import os\n",
    "import tarfile\n",
    "import requests\n",
    "import pandas as pd\n",
    "from io import StringIO\n",
    "\n",
    "from astropy.io import fits\n",
    "#import numpy as np\n",
    "from astroquery.simbad import Simbad\n",
    "\n",
    "from astropy import units as u\n",
    "from astropy.coordinates import SkyCoord\n",
    "\n",
    "import matplotlib.pylab as plt\n",
    "from matplotlib.ticker import FormatStrFormatter"
   ]
  },
  {
   "cell_type": "markdown",
   "metadata": {},
   "source": [
    "## Search for a target name\n",
    "\n",
    "We use `astroquery.simbad` to get the source coordinates"
   ]
  },
  {
   "cell_type": "code",
   "execution_count": 10,
   "metadata": {},
   "outputs": [
    {
     "data": {
      "text/html": [
       "<i>Table masked=True length=1</i>\n",
       "<table id=\"table4893642368\" class=\"table-striped table-bordered table-condensed\">\n",
       "<thead><tr><th>MAIN_ID</th><th>RA</th><th>DEC</th><th>RA_PREC</th><th>DEC_PREC</th><th>COO_ERR_MAJA</th><th>COO_ERR_MINA</th><th>COO_ERR_ANGLE</th><th>COO_QUAL</th><th>COO_WAVELENGTH</th><th>COO_BIBCODE</th></tr></thead>\n",
       "<thead><tr><th></th><th>&quot;h:m:s&quot;</th><th>&quot;d:m:s&quot;</th><th></th><th></th><th>mas</th><th>mas</th><th>deg</th><th></th><th></th><th></th></tr></thead>\n",
       "<thead><tr><th>object</th><th>str13</th><th>str13</th><th>int16</th><th>int16</th><th>float32</th><th>float32</th><th>int16</th><th>str1</th><th>str1</th><th>object</th></tr></thead>\n",
       "<tr><td>Mrk 1044</td><td>02 30 05.5224</td><td>-08 59 53.208</td><td>14</td><td>14</td><td>0.056</td><td>0.053</td><td>90</td><td>A</td><td>O</td><td>2018yCat.1345....0G</td></tr>\n",
       "</table>"
      ],
      "text/plain": [
       "<Table masked=True length=1>\n",
       "MAIN_ID        RA           DEC      ... COO_WAVELENGTH     COO_BIBCODE    \n",
       "            \"h:m:s\"       \"d:m:s\"    ...                                   \n",
       " object      str13         str13     ...      str1             object      \n",
       "-------- ------------- ------------- ... -------------- -------------------\n",
       "Mrk 1044 02 30 05.5224 -08 59 53.208 ...              O 2018yCat.1345....0G"
      ]
     },
     "execution_count": 10,
     "metadata": {},
     "output_type": "execute_result"
    }
   ],
   "source": [
    "result_table = Simbad.query_object(\"mrk1044\")\n",
    "result_table"
   ]
  },
  {
   "cell_type": "code",
   "execution_count": 25,
   "metadata": {},
   "outputs": [
    {
     "name": "stdout",
     "output_type": "stream",
     "text": [
      "CIRCLE('ICRS',37.5230,-8.9981,0.0017)\n",
      "POINT('ICRS',37.5230,-8.9981)\n"
     ]
    }
   ],
   "source": [
    "source = SkyCoord(result_table['RA'][0],result_table['DEC'][0],unit=(u.hour,u.deg))\n",
    "ra = source.ra.value\n",
    "dec = source.dec.value\n",
    "radius = 6.0/3600.0 #\n",
    "point = f\"POINT('ICRS',{ra:.4f},{dec:.4f})\"\n",
    "circle = f\"CIRCLE('ICRS',{ra:.4f},{dec:.4f},{radius:.4f})\"\n",
    "print (circle)\n",
    "print (point)"
   ]
  },
  {
   "cell_type": "markdown",
   "metadata": {},
   "source": [
    "## TAP query example\n",
    "\n",
    "The TAP needs to access 3 tables: \n",
    "\n",
    "1. `v_public_observations`: a table with all currently public XMM-Newton oservations.\n",
    "2. `v_exposure`: a table with additional information about each observation and exposure, this is needed if we want to search for particular observing modes, which are not available in the `v_public_observations` table.\n",
    "3. `v_instrument_mode`: this table provides the mapping of the numeric `instrument_mode_oid` to its human readable name `mode_friendly_name`. \n",
    "\n",
    "In the following example we query the NXSA for all public observations with:\n",
    "\n",
    "* minimum duration of `min_expo`, note that this is the planned duration and not the good-time-interval filtered exposure. \n",
    "* all EPIC-pn observing modes, these are those with `observing_oid` between 60 and 69.\n",
    "\n",
    "The table returned by the query is then converted to `pandas` dataframe and further filtered to contain only observations performed with `THIN`, `MEDIUM` or `THICK` filter. Therefore the dataframe `out_df` will contain the final selection."
   ]
  },
  {
   "cell_type": "code",
   "execution_count": 55,
   "metadata": {},
   "outputs": [
    {
     "name": "stdout",
     "output_type": "stream",
     "text": [
      "ADQL query returns error: <VOTABLE version=\"1.2\" xmlns=\"http://www.ivoa.net/xml/VOTable/v1.2\">\n",
      "<RESOURCE type=\"results\">\n",
      "<INFO name=\"QUERY_STATUS\" value=\"ERROR\">\n",
      "(TAP) Cannot execute query 'SELECT t2.\"observation_id\" AS observation_id , t2.\"ra\" AS ra , t2.\"dec\" AS dec , t2.\"revolution\" AS revolution , t2.\"duration\" AS duration , t3.\"mode_friendly_name\" AS mode_friendly_name , t1.\"filter\" AS filter , t2.\"with_science\" AS with_science\n",
      "FROM public.v_exposure AS t1 CROSS JOIN public.v_public_observations AS t2  CROSS JOIN public.v_instrument_mode AS t3 \n",
      "WHERE ('1' = (t2.\"observation_fov_scircle\" &amp;&amp; scircle(spoint(radians(37.5230),radians(-8.9981)),radians(0.0017)))) AND (t1.\"observation_oid\" = t2.\"observation_oid\") AND (t1.\"instrument_mode_oid\" BETWEEN 60 AND 69) AND (t1.\"instrument_mode_oid\" = t3.\"instrument_mode_oid\") AND (1 = t2.\"with_science\")\n",
      "Limit 100000' for job ' (source query: 'select t2.observation_id,t2.ra,t2.dec,t2.revolution,t2.duration,t3.mode_friendly_name,t1.filter,t2.with_science from v_exposure as t1, v_public_observations as t2, v_instrument_mode as t3 WHERE (1=INTERSECTS(t2.observation_fov_scircle,CIRCLE('ICRS',37.5230,-8.9981,0.0017))) and (t1.observation_oid = t2.observation_oid) and (t1.instrument_mode_oid BETWEEN 60 and 69) and (t1.instrument_mode_oid = t3.instrument_mode_oid) and (1=t2.with_science)')1558515956019D': Can not execute the following SQL: \n",
      "SELECT t2.\"observation_id\" AS observation_id , t2.\"ra\" AS ra , t2.\"dec\" AS dec , t2.\"revolution\" AS revolution , t2.\"duration\" AS duration , t3.\"mode_friendly_name\" AS mode_friendly_name , t1.\"filter\" AS filter , t2.\"with_science\" AS with_science\n",
      "FROM public.v_exposure AS t1 CROSS JOIN public.v_public_observations AS t2  CROSS JOIN public.v_instrument_mode AS t3 \n",
      "WHERE ('1' = (t2.\"observation_fov_scircle\" &amp;&amp; scircle(spoint(radians(37.5230),radians(-8.9981)),radians(0.0017)))) AND (t1.\"observation_oid\" = t2.\"observation_oid\") AND (t1.\"instrument_mode_oid\" BETWEEN 60 AND 69) AND (t1.\"instrument_mode_oid\" = t3.\"instrument_mode_oid\") AND (1 = t2.\"with_science\")\n",
      "Limit 100000\n",
      ". Because: ERROR: operator does not exist: integer = boolean\n",
      "  Hint: No operator matches the given name and argument type(s). You might need to add explicit type casts.\n",
      "  Position: 646\n",
      "</INFO>\n",
      "<INFO name=\"HttpErrorCode\" value=\"500\"/>\n",
      "<INFO name=\"Action\" value=\"Handling request\"/>\n",
      "<INFO name=\"Exception\" value=\"esavo.uws.UwsException\"/>\n",
      "<INFO name=\"StackTrace\" value=\"ERROR\">\n",
      "<![CDATA[\n",
      "esavo.uws.UwsManager\texecuteSyncJob\t767\n",
      "esavo.uws.actions.handlers.jobs.UwsJobCreateHandler\thandle\t246\n",
      "esavo.uws.actions.UwsActionsManager\texecuteRequest\t172\n",
      "esavo.tap.resource.Jobs\texecuteResource\t82\n",
      "esavo.tap.resource.TAP\texecuteRequest\t340\n",
      "esavo.sl.tap.actions.TapServlet\tservice\t74\n",
      "javax.servlet.http.HttpServlet\tservice\t729\n",
      "org.apache.catalina.core.ApplicationFilterChain\tinternalDoFilter\t291\n",
      "org.apache.catalina.core.ApplicationFilterChain\tdoFilter\t206\n",
      "org.apache.tomcat.websocket.server.WsFilter\tdoFilter\t52\n",
      "org.apache.catalina.core.ApplicationFilterChain\tinternalDoFilter\t239\n",
      "org.apache.catalina.core.ApplicationFilterChain\tdoFilter\t206\n",
      "org.springframework.security.web.FilterChainProxy$VirtualFilterChain\tdoFilter\t316\n",
      "org.springframework.security.web.access.intercept.FilterSecurityInterceptor\tinvoke\t126\n",
      "org.springframework.security.web.access.intercept.FilterSecurityInterceptor\tdoFilter\t90\n",
      "org.springframework.security.web.FilterChainProxy$VirtualFilterChain\tdoFilter\t330\n",
      "org.springframework.security.web.access.ExceptionTranslationFilter\tdoFilter\t114\n",
      "org.springframework.security.web.FilterChainProxy$VirtualFilterChain\tdoFilter\t330\n",
      "org.springframework.security.web.session.SessionManagementFilter\tdoFilter\t122\n",
      "org.springframework.security.web.FilterChainProxy$VirtualFilterChain\tdoFilter\t330\n",
      "org.springframework.security.web.authentication.AnonymousAuthenticationFilter\tdoFilter\t111\n",
      "org.springframework.security.web.FilterChainProxy$VirtualFilterChain\tdoFilter\t330\n",
      "org.springframework.security.web.servletapi.SecurityContextHolderAwareRequestFilter\tdoFilter\t168\n",
      "org.springframework.security.web.FilterChainProxy$VirtualFilterChain\tdoFilter\t330\n",
      "org.springframework.security.web.savedrequest.RequestCacheAwareFilter\tdoFilter\t48\n",
      "org.springframework.security.web.FilterChainProxy$VirtualFilterChain\tdoFilter\t330\n",
      "org.springframework.security.web.authentication.www.BasicAuthenticationFilter\tdoFilterInternal\t158\n",
      "org.springframework.web.filter.OncePerRequestFilter\tdoFilter\t107\n",
      "org.springframework.security.web.FilterChainProxy$VirtualFilterChain\tdoFilter\t330\n",
      "org.springframework.security.web.authentication.ui.DefaultLoginPageGeneratingFilter\tdoFilter\t162\n",
      "org.springframework.security.web.FilterChainProxy$VirtualFilterChain\tdoFilter\t330\n",
      "org.springframework.security.web.authentication.AbstractAuthenticationProcessingFilter\tdoFilter\t205\n",
      "org.springframework.security.web.FilterChainProxy$VirtualFilterChain\tdoFilter\t330\n",
      "org.springframework.security.web.authentication.AbstractAuthenticationProcessingFilter\tdoFilter\t205\n",
      "org.springframework.security.web.FilterChainProxy$VirtualFilterChain\tdoFilter\t330\n",
      "org.springframework.security.web.authentication.logout.LogoutFilter\tdoFilter\t120\n",
      "org.springframework.security.web.FilterChainProxy$VirtualFilterChain\tdoFilter\t330\n",
      "org.springframework.security.web.header.HeaderWriterFilter\tdoFilterInternal\t64\n",
      "org.springframework.web.filter.OncePerRequestFilter\tdoFilter\t107\n",
      "org.springframework.security.web.FilterChainProxy$VirtualFilterChain\tdoFilter\t330\n",
      "org.springframework.security.web.context.request.async.WebAsyncManagerIntegrationFilter\tdoFilterInternal\t53\n",
      "org.springframework.web.filter.OncePerRequestFilter\tdoFilter\t107\n",
      "org.springframework.security.web.FilterChainProxy$VirtualFilterChain\tdoFilter\t330\n",
      "org.springframework.security.web.context.SecurityContextPersistenceFilter\tdoFilter\t91\n",
      "org.springframework.security.web.FilterChainProxy$VirtualFilterChain\tdoFilter\t330\n",
      "org.springframework.security.web.FilterChainProxy\tdoFilterInternal\t213\n",
      "org.springframework.security.web.FilterChainProxy\tdoFilter\t176\n",
      "org.springframework.web.filter.DelegatingFilterProxy\tinvokeDelegate\t344\n",
      "org.springframework.web.filter.DelegatingFilterProxy\tdoFilter\t261\n",
      "org.apache.catalina.core.ApplicationFilterChain\tinternalDoFilter\t239\n",
      "org.apache.catalina.core.ApplicationFilterChain\tdoFilter\t206\n",
      "org.apache.catalina.core.StandardWrapperValve\tinvoke\t219\n",
      "org.apache.catalina.core.StandardContextValve\tinvoke\t106\n",
      "org.apache.catalina.authenticator.AuthenticatorBase\tinvoke\t502\n",
      "org.apache.catalina.core.StandardHostValve\tinvoke\t142\n",
      "org.apache.catalina.valves.ErrorReportValve\tinvoke\t79\n",
      "org.apache.catalina.valves.AbstractAccessLogValve\tinvoke\t617\n",
      "org.apache.catalina.valves.RemoteIpValve\tinvoke\t676\n",
      "org.apache.catalina.core.StandardEngineValve\tinvoke\t88\n",
      "org.apache.catalina.connector.CoyoteAdapter\tservice\t518\n",
      "org.apache.coyote.http11.AbstractHttp11Processor\tprocess\t1091\n",
      "org.apache.coyote.AbstractProtocol$AbstractConnectionHandler\tprocess\t668\n",
      "org.apache.tomcat.util.net.NioEndpoint$SocketProcessor\tdoRun\t1521\n",
      "org.apache.tomcat.util.net.NioEndpoint$SocketProcessor\trun\t1478\n",
      "java.util.concurrent.ThreadPoolExecutor\trunWorker\t1149\n",
      "java.util.concurrent.ThreadPoolExecutor$Worker\trun\t624\n",
      "org.apache.tomcat.util.threads.TaskThread$WrappingRunnable\trun\t61\n",
      "java.lang.Thread\trun\t748\n",
      "\n",
      "]]>\n",
      "</INFO>\n",
      "</RESOURCE>\n",
      "</VOTABLE>\n",
      "\n"
     ]
    },
    {
     "ename": "Exception",
     "evalue": "",
     "output_type": "error",
     "traceback": [
      "\u001b[0;31m---------------------------------------------------------------------------\u001b[0m",
      "\u001b[0;31mException\u001b[0m                                 Traceback (most recent call last)",
      "\u001b[0;32m<ipython-input-55-a41b4d002d50>\u001b[0m in \u001b[0;36m<module>\u001b[0;34m()\u001b[0m\n\u001b[1;32m     18\u001b[0m \u001b[0;32mif\u001b[0m \u001b[0;34m(\u001b[0m\u001b[0;34m'ERROR'\u001b[0m \u001b[0;32min\u001b[0m \u001b[0mjx\u001b[0m\u001b[0;34m)\u001b[0m\u001b[0;34m:\u001b[0m\u001b[0;34m\u001b[0m\u001b[0;34m\u001b[0m\u001b[0m\n\u001b[1;32m     19\u001b[0m     \u001b[0mprint\u001b[0m \u001b[0;34m(\u001b[0m\u001b[0;34m\"ADQL query returns error:\"\u001b[0m\u001b[0;34m,\u001b[0m\u001b[0mjx\u001b[0m\u001b[0;34m)\u001b[0m\u001b[0;34m\u001b[0m\u001b[0;34m\u001b[0m\u001b[0m\n\u001b[0;32m---> 20\u001b[0;31m     \u001b[0;32mraise\u001b[0m \u001b[0mException\u001b[0m\u001b[0;34m\u001b[0m\u001b[0;34m\u001b[0m\u001b[0m\n\u001b[0m\u001b[1;32m     21\u001b[0m \u001b[0mbuff\u001b[0m \u001b[0;34m=\u001b[0m \u001b[0mStringIO\u001b[0m\u001b[0;34m(\u001b[0m\u001b[0mjx\u001b[0m\u001b[0;34m)\u001b[0m\u001b[0;34m\u001b[0m\u001b[0;34m\u001b[0m\u001b[0m\n\u001b[1;32m     22\u001b[0m \u001b[0mdf\u001b[0m \u001b[0;34m=\u001b[0m \u001b[0mpd\u001b[0m\u001b[0;34m.\u001b[0m\u001b[0mread_csv\u001b[0m\u001b[0;34m(\u001b[0m\u001b[0mbuff\u001b[0m\u001b[0;34m,\u001b[0m \u001b[0msep\u001b[0m\u001b[0;34m=\u001b[0m\u001b[0;34m\",\"\u001b[0m\u001b[0;34m)\u001b[0m\u001b[0;34m\u001b[0m\u001b[0;34m\u001b[0m\u001b[0m\n",
      "\u001b[0;31mException\u001b[0m: "
     ]
    }
   ],
   "source": [
    "#\n",
    "# the TAP access\n",
    "#\n",
    "tap_url = \"http://nxsa.esac.esa.int/tap-server/tap/sync?REQUEST=doQuery&LANG=ADQL&FORMAT=csv&\"\n",
    "#\n",
    "# the ADQL query\n",
    "#\n",
    "query = f\"QUERY=select t2.observation_id,t2.ra,t2.dec,t2.revolution,t2.duration,t3.mode_friendly_name,t1.filter,t2.with_science\" + \\\n",
    "\" from v_exposure as t1, v_public_observations as t2, v_instrument_mode as t3\" + \\\n",
    "\" WHERE \" + \\\n",
    "f\"(1=INTERSECTS(t2.observation_fov_scircle,{circle})) and \" + \\\n",
    "\"(t1.observation_oid = t2.observation_oid) and \" + \\\n",
    "\"(t1.instrument_mode_oid BETWEEN 60 and 69) and \" + \\\n",
    "\"(t1.instrument_mode_oid = t3.instrument_mode_oid) and \" + \\\n",
    "\"(1=t2.with_science)\"\n",
    "#f\"(1=INTERSECTS(t2.footprint_fov,{circle})) and \" + \\\n",
    "#f\"(1=INTERSECTS(t2.observation_fov_scircle,{point})) and \" + \\\n",
    "#f\"(1=CONTAINS(t2.footprint_fov,{circle})) and \" + \\\n",
    "#\n",
    "xreq = tap_url + query\n",
    "# send GET request via AIO \n",
    "with requests.get(xreq) as r:\n",
    "    jx = r.content.decode()\n",
    "#\n",
    "if ('ERROR' in jx):\n",
    "    print (\"ADQL query returns error:\",jx)\n",
    "    raise Exception\n",
    "buff = StringIO(jx)\n",
    "df = pd.read_csv(buff, sep=\",\")"
   ]
  },
  {
   "cell_type": "code",
   "execution_count": 32,
   "metadata": {},
   "outputs": [
    {
     "name": "stdout",
     "output_type": "stream",
     "text": [
      "Found 3 observations\n"
     ]
    }
   ],
   "source": [
    "print (f\"Found {len(df)} observations\")"
   ]
  },
  {
   "cell_type": "code",
   "execution_count": 33,
   "metadata": {},
   "outputs": [],
   "source": [
    "#\n",
    "# rename some columns\n",
    "#\n",
    "df.rename(columns={'observation_id': 'obs_id','mode_friendly_name': 'obs_mode',\\\n",
    "                   'revolution': 'rev'},inplace=True)\n",
    "#\n",
    "# now select those with 'MEDIUM', 'THICK', 'THIN2', 'THIN1'\n",
    "# wil use pandas quesry function.\n",
    "#\n",
    "df['filter'] = df['filter'].str.upper()\n",
    "#\n",
    "out_df = df.query(\"filter in [\\\"THIN1\\\",\\\"THIN2\\\",\\\"THICK\\\",\\\"MEDIUM\\\"]\")"
   ]
  },
  {
   "cell_type": "code",
   "execution_count": 34,
   "metadata": {},
   "outputs": [
    {
     "data": {
      "text/html": [
       "<div>\n",
       "<style scoped>\n",
       "    .dataframe tbody tr th:only-of-type {\n",
       "        vertical-align: middle;\n",
       "    }\n",
       "\n",
       "    .dataframe tbody tr th {\n",
       "        vertical-align: top;\n",
       "    }\n",
       "\n",
       "    .dataframe thead th {\n",
       "        text-align: right;\n",
       "    }\n",
       "</style>\n",
       "<table border=\"1\" class=\"dataframe\">\n",
       "  <thead>\n",
       "    <tr style=\"text-align: right;\">\n",
       "      <th></th>\n",
       "      <th>obs_id</th>\n",
       "      <th>ra</th>\n",
       "      <th>dec</th>\n",
       "      <th>rev</th>\n",
       "      <th>duration</th>\n",
       "      <th>obs_mode</th>\n",
       "      <th>filter</th>\n",
       "    </tr>\n",
       "  </thead>\n",
       "  <tbody>\n",
       "    <tr>\n",
       "      <th>1</th>\n",
       "      <td>112600301</td>\n",
       "      <td>37.520835</td>\n",
       "      <td>-8.998055</td>\n",
       "      <td>480</td>\n",
       "      <td>8375</td>\n",
       "      <td>Small Window</td>\n",
       "      <td>MEDIUM</td>\n",
       "    </tr>\n",
       "    <tr>\n",
       "      <th>2</th>\n",
       "      <td>695290101</td>\n",
       "      <td>37.522920</td>\n",
       "      <td>-8.998055</td>\n",
       "      <td>2406</td>\n",
       "      <td>133617</td>\n",
       "      <td>Small Window</td>\n",
       "      <td>THIN1</td>\n",
       "    </tr>\n",
       "  </tbody>\n",
       "</table>\n",
       "</div>"
      ],
      "text/plain": [
       "      obs_id         ra       dec   rev  duration      obs_mode  filter\n",
       "1  112600301  37.520835 -8.998055   480      8375  Small Window  MEDIUM\n",
       "2  695290101  37.522920 -8.998055  2406    133617  Small Window   THIN1"
      ]
     },
     "execution_count": 34,
     "metadata": {},
     "output_type": "execute_result"
    }
   ],
   "source": [
    "out_df"
   ]
  },
  {
   "cell_type": "code",
   "execution_count": 40,
   "metadata": {},
   "outputs": [
    {
     "name": "stdout",
     "output_type": "stream",
     "text": [
      "Selecting OBS_ID 0695290101\n"
     ]
    }
   ],
   "source": [
    "ix_select = 1\n",
    "#out_df.iloc[ix_select]\n",
    "#print (f\"Selected {len(out_df)} XMM-Newton EPIC-pn public observations.\")\n",
    "x_obsid = f\"{out_df.iloc[ix_select].obs_id:010}\"\n",
    "print (f\"Selecting OBS_ID {x_obsid}\")"
   ]
  },
  {
   "cell_type": "markdown",
   "metadata": {},
   "source": [
    "## Download an XMM spectrum\n",
    "\n",
    "Once we have the list of observation IDs we can directly access the different products linked to it: the low-level ODFs, the pipeline products PPS, the images and/or the spectra.\n",
    "\n",
    "In this example we are only interested of the spectral products for the brightest source in the observation. By convention, the spectral products are numbered from 1 to the number of detected sources, starting from the brightest one.\n",
    "\n",
    "The access to the products is through an URL, constructed with the observation id and the type of the product. In this example, the spectral pipeline products (`level=PPS`) are under `name=SRSPEC`, the file extension is `FTZ` (i.e. zipped FITS file) and we only restrict to files with EPIC-pn, `instname=PN`.\n",
    "\n",
    "More information on the available pipeline products and their content is available in the [Specifications for individual SSC data products](ftp://xmm2.esac.esa.int/pub/odf/data/docs/XMM-SOC-GEN-ICD-0024.pdf) document. The `SRSPEC` product is described in section 6.5.4.2 (on page 54).\n",
    "\n",
    "We cannot select only one `SRSPEC`, so all spectra from the same observation will be added to a TAR file. This makes the task a bit complicated, because if there is only one spectrum in the observation then the returned files will be `FTZ` and not `TAR`.\n",
    "\n",
    "The `TAR` file has to be downloaded and we set a temporary folder `tmdir`. After extraction of the spectrum the `TAR` file can be deleted.\n",
    "\n",
    "Now we have the `TAR` file or the `FTZ` one if there is only one source, but in both cases the saved filename is `tarFile`, so we have to check if the file is indeed `TAR` before we start extracting the spectrum of the brightest source (`src_index=1`).\n",
    "\n",
    "We introduce a further filtering based on exposure after the good-time-interval (GTI) filtering by the pipeline, setting the minimum exposure to `expo_limit`.\n",
    "\n",
    "These are all implemented in the utility function `get_xmm_spectrum()`."
   ]
  },
  {
   "cell_type": "code",
   "execution_count": 41,
   "metadata": {},
   "outputs": [],
   "source": [
    "def get_xmm_spectrum(obsid,instrument=\"PN\",product=\"SRSPEC\", src_index=1, expo_limit=15.0, \\\n",
    "                     outputFile=None, tmpdir='./'):\n",
    "    #\n",
    "    # if output is None then the spectrum will not be saved but the HDU will be returned\n",
    "    #\n",
    "    extn = \"FTZ\"\n",
    "    #\n",
    "    url = 'http://nxsa.esac.esa.int/nxsa-sl/servlet'\n",
    "    req  = f\"{url}/data-action-aio?obsno={obsid}&extension={extn}&name={product}&instname={instrument}&level=PPS\"\n",
    "    #\n",
    "    tarFile = f\"{tmpdir}/pps_spec.tar\"\n",
    "    print (f\"Downloading tar file for {obsid} from NXSA... wait\")\n",
    "    with requests.get(req) as r:\n",
    "        if (b'No results' in r.content):\n",
    "            print (f\"No PPS spectral products found for {obsid}\")\n",
    "            return None\n",
    "        else:\n",
    "            with open(tarFile,\"wb\") as tmp:\n",
    "                tmp.write(r.content)\n",
    "    print (f\"{instrument} spectra saved to {tarFile}\")\n",
    "    # \n",
    "    # Extract the spectrum\n",
    "    #\n",
    "    hdu = None\n",
    "    try:\n",
    "        with tarfile.open(tarFile,'r') as tar:\n",
    "            src = f'{product}{src_index:04}'\n",
    "            for member in tar.getmembers():\n",
    "                if (src in member.name):\n",
    "                    print (f\"Extracting {member.name}\")\n",
    "                    f=tar.extract(member,path=tmpdir)\n",
    "                    hdu = fits.open(f\"{tmpdir}/{member.name}\")\n",
    "                    texp = hdu[1].header['EXPOSURE']/1000.0\n",
    "                    if (texp >= expo_limit):\n",
    "                        if (outputFile != None):\n",
    "                            hdu.writeto(outputFile,overwrite=True)\n",
    "                            print (f\"Saved PN {product} 01 for {obsid}, the total exposure after GTI is {texp:.1f} ks (>= {expo_limit} ks)\")                        \n",
    "                            return hdu\n",
    "                    else:\n",
    "                        print (f\"*** Will skip PN {product} 01 for {obsid} as the total exposure after GTI is {texp:.1f} ks (< {expo_limit} ks)\")\n",
    "                        return None\n",
    "                    break\n",
    "    except:\n",
    "        # only one file and it's FTZ file\n",
    "        hdu = fits.open(tarFile)\n",
    "        texp = hdu[1].header['EXPOSURE']/1000.0\n",
    "        if (texp >= expo_limit):\n",
    "            if (outputFile != None):\n",
    "                hdu.writeto(outputFile,overwrite=True)\n",
    "                print (f\"Saved PN {product} 01 for {obsid}, the total exposure after GTI is {texp:.1f} ks (>= {expo_limit} ks)\")\n",
    "                return hdu\n",
    "        else:\n",
    "            print (f\"*** Will skip PN {product} 01 for {obsid} as the total exposure after GTI is {texp:.1f} ks (< {expo_limit} ks)\")\n",
    "            return None\n",
    "    return hdu"
   ]
  },
  {
   "cell_type": "markdown",
   "metadata": {},
   "source": [
    "The function `get_xmm_spectrum()` can be used to download a source spectrum (`product=SRSPEC`) but also to download the background spectrum (`product=BGSPEC`). This is shown in the following example. "
   ]
  },
  {
   "cell_type": "code",
   "execution_count": 42,
   "metadata": {},
   "outputs": [
    {
     "name": "stdout",
     "output_type": "stream",
     "text": [
      "Downloading tar file for 0695290101 from NXSA... wait\n",
      "PN spectra saved to /Users/ivaltcha/Tmp/XMM_data/pps_spec.tar\n",
      "Extracting 0695290101/pps/P0695290101PNS003SRSPEC0001.FTZ\n",
      "Saved PN SRSPEC 01 for 0695290101, the total exposure after GTI is 42.4 ks (>= 15.0 ks)\n"
     ]
    }
   ],
   "source": [
    "#\n",
    "# select a random obsid from the TAP results\n",
    "#\n",
    "# the obs_id is a 10 character string\n",
    "#obs_id = \"{:010}\".format(out_df.sample(n=1).obs_id.iloc[0])\n",
    "#obs_id = \"0122700101\"\n",
    "#\n",
    "#\n",
    "# set some variables and extract a spectrum\n",
    "#\n",
    "tmpdir = os.path.expanduser('~') + '/Tmp/XMM_data'\n",
    "ftype = \"SRSPEC\"\n",
    "srcindex = 1\n",
    "oFile = f\"{tmpdir}/{x_obsid}_spectrum_{srcindex:04}.fits.gz\"\n",
    "#\n",
    "hdu = get_xmm_spectrum(x_obsid,instrument=\"PN\",product=ftype, src_index=srcindex, expo_limit=15.0, \\\n",
    "                     outputFile=oFile, tmpdir=tmpdir)"
   ]
  },
  {
   "cell_type": "code",
   "execution_count": 43,
   "metadata": {},
   "outputs": [
    {
     "name": "stdout",
     "output_type": "stream",
     "text": [
      "Filename: /Users/ivaltcha/Tmp/XMM_data/0695290101/pps/P0695290101PNS003SRSPEC0001.FTZ\n",
      "No.    Name      Ver    Type      Cards   Dimensions   Format\n",
      "  0  PRIMARY       1 PrimaryHDU     115   ()      \n",
      "  1  SPECTRUM      1 BinTableHDU     72   4096R x 4C   [I, J, I, I]   \n",
      "  2  REGION        1 BinTableHDU     75   1R x 4C   [10A, E, E, E]   \n",
      "  3  GTI00005      1 BinTableHDU     22   30R x 2C   [D, D]   \n"
     ]
    }
   ],
   "source": [
    "hdu.info()"
   ]
  },
  {
   "cell_type": "code",
   "execution_count": 44,
   "metadata": {},
   "outputs": [
    {
     "name": "stdout",
     "output_type": "stream",
     "text": [
      "Downloading tar file for 0695290101 from NXSA... wait\n",
      "PN spectra saved to /Users/ivaltcha/Tmp/XMM_data/pps_spec.tar\n",
      "Extracting 0695290101/pps/P0695290101PNS003BGSPEC0001.FTZ\n",
      "Saved PN BGSPEC 01 for 0695290101, the total exposure after GTI is 42.4 ks (>= 15.0 ks)\n"
     ]
    }
   ],
   "source": [
    "#\n",
    "# we can also extract the background file\n",
    "#\n",
    "ftype = \"BGSPEC\"\n",
    "bkgFile = f\"{tmpdir}/{x_obsid}_bkg_{srcindex:04}.fits.gz\"\n",
    "#\n",
    "bkg_hdu = get_xmm_spectrum(x_obsid,instrument=\"PN\",product=ftype, src_index=srcindex, expo_limit=15.0, \\\n",
    "                     outputFile=bkgFile, tmpdir=tmpdir)\n"
   ]
  },
  {
   "cell_type": "markdown",
   "metadata": {},
   "source": [
    "Now we visualise the spectrum and the background:"
   ]
  },
  {
   "cell_type": "code",
   "execution_count": 45,
   "metadata": {},
   "outputs": [
    {
     "data": {
      "image/png": "[encoded data removed]",
      "text/plain": [
       "<Figure size 1080x360 with 1 Axes>"
      ]
     },
     "metadata": {
      "needs_background": "light"
     },
     "output_type": "display_data"
    }
   ],
   "source": [
    "#\n",
    "# will reuse the already opened HDU\n",
    "# or we can read the saved FITS spectrum\n",
    "#hdu = fits.open(outputFile)\n",
    "#\n",
    "plot_title = f\"OBS_ID: {hdu[0].header['EXP_ID']}, \" + \\\n",
    "    f\"Target: {hdu[0].header['OBJECT']}, \\n\" + \\\n",
    "    f\"expo: {hdu['SPECTRUM'].header['EXPOSURE']/1000.0:.1f} ks\"\n",
    "#\n",
    "spec = hdu['SPECTRUM']\n",
    "binsize = spec.header['SPECDELT']\n",
    "x = spec.data['CHANNEL']*binsize/1000.0\n",
    "y = spec.data['COUNTS']\n",
    "#\n",
    "bgspec = bkg_hdu['SPECTRUM']\n",
    "binsize = bgspec.header['SPECDELT']\n",
    "xbg = bgspec.data['CHANNEL']*binsize/1000.0\n",
    "ybg = bgspec.data['COUNTS']\n",
    "\n",
    "xlims  = (0.2, 12.0)\n",
    "#\n",
    "fig = plt.figure(figsize=(15,5))\n",
    "ax = fig.subplots()\n",
    "ax.step(x,y,label='spectrum')\n",
    "ax.step(xbg,ybg,label='background')\n",
    "#ax.step(x,y,color='red')\n",
    "ax.set_xlim(xlims)\n",
    "ax.set_xlabel(\"Energy (keV)\")\n",
    "ax.set_ylabel(\"Counts\")\n",
    "ax.set_title(plot_title)\n",
    "ax.set_xscale('log')\n",
    "ax.set_yscale('log')\n",
    "ax.xaxis.set_major_formatter(FormatStrFormatter(\"%g\"))\n",
    "ax.yaxis.set_major_formatter(FormatStrFormatter(\"%g\"))\n",
    "ax.legend()\n",
    "ax.grid(which='both')"
   ]
  },
  {
   "cell_type": "code",
   "execution_count": null,
   "metadata": {},
   "outputs": [],
   "source": []
  },
  {
   "cell_type": "code",
   "execution_count": null,
   "metadata": {},
   "outputs": [],
   "source": []
  }
 ],
 "metadata": {
  "kernelspec": {
   "display_name": "Python 3",
   "language": "python",
   "name": "python3"
  },
  "language_info": {
   "codemirror_mode": {
    "name": "ipython",
    "version": 3
   },
   "file_extension": ".py",
   "mimetype": "text/x-python",
   "name": "python",
   "nbconvert_exporter": "python",
   "pygments_lexer": "ipython3",
   "version": "3.7.1"
  }
 },
 "nbformat": 4,
 "nbformat_minor": 2
}
