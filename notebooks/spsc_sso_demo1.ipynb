{
 "cells": [
  {
   "cell_type": "markdown",
   "metadata": {},
   "source": [
    "# Using the _Herschel_-SPIRE Point Source Catalogue: demo \\#1\n",
    "\n",
    "This simple notebook demonstrates a simple use of the SPIRE Point Source Catalogue (SPSC). The user provides an Observation ID (OBSID) and the script will download the three SPIRE level-2 images for each band 250, 350 and 500 µm (mnemonic names `PSW`, `PMW` and `PLW` respectively) and will overlay the objects from the catalogue and optionally the sources from the initial source table.\n",
    "\n",
    "**Required python packages:** `python 3.6` and above and the _standard_ `numpy`, `matplotlib` and `astropy`."
   ]
  },
  {
   "cell_type": "code",
   "execution_count": 6,
   "metadata": {},
   "outputs": [],
   "source": [
    "import os\n",
    "from astropy.table import Table\n",
    "import numpy as np"
   ]
  },
  {
   "cell_type": "code",
   "execution_count": 4,
   "metadata": {},
   "outputs": [],
   "source": [
    "#\n",
    "# now read the catalogue and sources, I will use the now hidden URL, change to the public one\n",
    "# when released\n",
    "#\n",
    "legacy_url = 'http://archives.esac.esa.int/hsa/legacy/HPDP/SPIRE/SPIRE-P/SPSC'\n",
    "#cats_dir = '/Volumes/WORK/Works/herspire/SPIRE_PSC_v3/cats'\n",
    "cats_dir = f'{legacy_url}/.release2'\n",
    "band = \"250\"\n",
    "cat250 = Table.read(f'{cats_dir}/spsc_standard_250_v3.csv.gz',format='ascii.csv')"
   ]
  },
  {
   "cell_type": "code",
   "execution_count": 5,
   "metadata": {},
   "outputs": [
    {
     "name": "stdout",
     "output_type": "stream",
     "text": [
      "<Table masked=True length=1710560>\n",
      "     name      dtype  n_bad\n",
      "------------- ------- -----\n",
      "       SPSCID   str25     0\n",
      "          DET    str3     0\n",
      "           RA float64     0\n",
      "          DEC float64     0\n",
      "       RA_ERR float64     0\n",
      "      DEC_ERR float64     0\n",
      "     POS_FLAG    str1     0\n",
      "         NMAP   int64     0\n",
      "         NDET   int64     0\n",
      "         FLUX float64     0\n",
      "  FLUXTML_ERR float64     0\n",
      "     CONF_ERR float64     0\n",
      "     FLUX_ERR float64     0\n",
      "          SNR float64     0\n",
      " INSTERR_FLAG    str1     0\n",
      "      FLUXSUS float64     0\n",
      "  FLUXSUS_ERR float64     0\n",
      "      FLUXDAO float64     0\n",
      "  FLUXDAO_ERR float64     0\n",
      "      FLUXTM2 float64     9\n",
      "  FLUXTM2_ERR float64     9\n",
      "        FWHM1 float64    80\n",
      "        FWHM2 float64     0\n",
      "    FWHM1_ERR float64    80\n",
      "    FWHM2_ERR float64     0\n",
      "          ROT float64     0\n",
      "      ROT_ERR float64     0\n",
      "  PNTSRC_FLAG    str1     0\n",
      "  EXTSRC_FLAG    str1     0\n",
      " LOWFWHM_FLAG    str1     0\n",
      "LARGEGAL_FLAG    str1     0\n",
      " MAPEDGE_FLAG    str1     0\n",
      "  ASTROM_FLAG    str1     0\n",
      " SSOCONT_FLAG    str1     0\n",
      "KNOWNSSO_FLAG    str1     0\n",
      "      Q3CTILE   int64     0\n"
     ]
    }
   ],
   "source": [
    "cat250.info()"
   ]
  },
  {
   "cell_type": "code",
   "execution_count": 12,
   "metadata": {},
   "outputs": [],
   "source": [
    "nsso = np.where(cat250['KNOWNSSO_FLAG'] == 'T')[0]"
   ]
  },
  {
   "cell_type": "code",
   "execution_count": 13,
   "metadata": {},
   "outputs": [
    {
     "data": {
      "text/plain": [
       "340"
      ]
     },
     "execution_count": 13,
     "metadata": {},
     "output_type": "execute_result"
    }
   ],
   "source": [
    "len(nsso)"
   ]
  },
  {
   "cell_type": "code",
   "execution_count": null,
   "metadata": {},
   "outputs": [],
   "source": []
  }
 ],
 "metadata": {
  "kernelspec": {
   "display_name": "Python 3",
   "language": "python",
   "name": "python3"
  },
  "language_info": {
   "codemirror_mode": {
    "name": "ipython",
    "version": 3
   },
   "file_extension": ".py",
   "mimetype": "text/x-python",
   "name": "python",
   "nbconvert_exporter": "python",
   "pygments_lexer": "ipython3",
   "version": "3.7.1"
  }
 },
 "nbformat": 4,
 "nbformat_minor": 2
}
