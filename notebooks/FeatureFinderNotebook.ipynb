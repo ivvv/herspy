{
 "cells": [
  {
   "cell_type": "markdown",
   "metadata": {},
   "source": [
    "# Introduction\n",
    "\n",
    "The Herschel/SPIRE Spectral Feature Finder (FF) is an automated tool which detects significant spectral features within SPIRE Fourier Transform Spectrometer (FTS) spectral data. The FF is designed to facilitate data-mining and preliminary analysis of SPIRE spectral data and is not a replacement for detailed scientific analysis. A full introduction to the FF routine and products is presented at http://archives.esac.esa.int/hsa/legacy/HPDP/SPIRE/SPIRE-S/spectral_feature_catalogue/SpectralFeatureFinder_releaseNote.html The FF products can be accessed from https://www.cosmos.esa.int/web/herschel/spire-spectral-feature-catalogue. In this notebook we provide examples of how to search FF products for spectral lines or sources on interest, and include sample code for visually displaying the results and estimating integrated line flux. \n",
    "\n",
    "The full FF products can be downloaded from the link above, however, in this notebook we will only download select products when necessary. Products will be downloaded from the `archive` defined below and will be placed in a chosen directory which we will assing to the variable `dataDir`. The `archive` has a directory sturcture identical to the FF products you can download from the link above.\n",
    "\n",
    "To begin, a few Python modules will need to be imported. The standard Anaconda distribution is recomended as it includes most of these packages by default. However, Anaconda does not ship with the spectral-cube or lmfit packages and likely need to be installed by the user."
   ]
  },
  {
   "cell_type": "markdown",
   "metadata": {},
   "source": [
    "## Requirements\n",
    "\n",
    "The notebook was developed and need python 3.7 and the following packages with their versions:\n",
    " * `astropy v3.1`\n",
    " * `numpy v1.15.4` \n",
    " * `matplotlib 3.0.2`\n",
    " * `spectral-cube v0.4.3`\n",
    " * `lmfit`\n",
    " and some standard pyhton packages. "
   ]
  },
  {
   "cell_type": "code",
   "execution_count": 17,
   "metadata": {},
   "outputs": [],
   "source": [
    "import os\n",
    "import io\n",
    "import requests\n",
    "import gzip\n",
    "import tarfile\n",
    "#import webbrowser\n",
    "import urllib3\n",
    "http = urllib3.PoolManager()\n",
    "\n",
    "import numpy as np\n",
    "from lmfit import Model\n",
    "\n",
    "from astropy import units as u\n",
    "from astropy.wcs import WCS\n",
    "from astropy.io import fits\n",
    "from astropy.coordinates import SkyCoord\n",
    "from astropy.table import Table\n",
    "\n",
    "from spectral_cube import SpectralCube\n",
    "\n",
    "import matplotlib.pyplot as plt\n",
    "import matplotlib.image as mpimg\n",
    "%matplotlib inline  "
   ]
  },
  {
   "cell_type": "code",
   "execution_count": 22,
   "metadata": {},
   "outputs": [
    {
     "name": "stdout",
     "output_type": "stream",
     "text": [
      "INFO: all temprary files and downloads will be stored in /Users/ivaltcha/Tmp/HershelData\n"
     ]
    }
   ],
   "source": [
    "#\n",
    "# define the URL for the FTS Spectral Feature Catalogue\n",
    "#\n",
    "archive = 'http://archives.esac.esa.int/hsa/legacy/HPDP/SPIRE/SPIRE-S/spectral_feature_catalogue'\n",
    "#\n",
    "# the work folder where the data will be downloaded. It will be used as a simple cache folder too.\n",
    "#\n",
    "dataDir = os.path.expanduser('~') + '/Tmp/HershelData'\n",
    "if (not os.path.isdir(dataDir)):\n",
    "    print (f'{dataDir} does not exist!')\n",
    "    print ('Please set dataDir to point to an already existing folder')\n",
    "else:\n",
    "    print (f\"INFO: all temprary files and downloads will be stored in {dataDir}\")"
   ]
  },
  {
   "cell_type": "markdown",
   "metadata": {},
   "source": [
    "# Searching the Catalogue\n",
    "\n",
    "Searching the featues catalogue for featues meeing a specific search criteria is done most efficeiently with the the SPIRE Automated Feature Extraction Catalogue (SAFECAT). The SAFECAT is a fits table which contains a row entry for each feature detected by the FF. Below we demonstarte how to download and search the SAFECAT for detected features within a user-defined frequency range."
   ]
  },
  {
   "cell_type": "code",
   "execution_count": 3,
   "metadata": {},
   "outputs": [],
   "source": [
    "#\n",
    "# not sure why this fucntion is necessary, files can be simply downloaded from URL\n",
    "#\n",
    "def downloadProduct(url, saveDir):\n",
    "    outFile = os.path.join(saveDir, os.path.basename(url))\n",
    "    if os.path.exists(outFile):\n",
    "        print('Product already downloaded')\n",
    "        return outFile\n",
    "    haioRequest = archive + url\n",
    "    print (\"Downloading requested products. May take a while... be patient\")\n",
    "    r = requests.get(haioRequest)\n",
    "    checkDir = saveDir\n",
    "    #for subDir in url.split('/')[:-1]:\n",
    "    #    checkDir = os.path.join(checkDir, subDir)\n",
    "    if not os.path.isdir(checkDir):\n",
    "        os.mkdir(checkDir)\n",
    "    with open(outFile, \"wb\") as tmp:\n",
    "        tmp.write(r.content)\n",
    "    print(\"Done!\")\n",
    "    return outFile"
   ]
  },
  {
   "cell_type": "code",
   "execution_count": 4,
   "metadata": {},
   "outputs": [
    {
     "name": "stdout",
     "output_type": "stream",
     "text": [
      "<Table length=167525>\n",
      "     name       dtype   unit  n_bad\n",
      "-------------- ------- ------ -----\n",
      "         obsid   int32            0\n",
      "         opDay   int32            0\n",
      "     frequency float64    GHz     0\n",
      "frequencyError float64    GHz     0\n",
      " restFrameFreq float64    GHz     0\n",
      "           SNR float64            0\n",
      "         array  bytes3            0\n",
      "           row   int32            0\n",
      "        column   int32            0\n",
      "            ra float64            0\n",
      "           dec float64            0\n",
      "   featureFlag float64            0\n",
      "      velocity float64 km / s     0\n",
      " velocityError float64 km / s 25214\n",
      "         vFlag  bytes5            0\n",
      "        extent bytes12            0\n",
      "   calibration bytes14            0\n",
      "      sampling bytes12            0\n",
      "          hpdp   int32            0\n",
      "           bgs   int32            0\n",
      "       nccFlag   int32            0\n"
     ]
    }
   ],
   "source": [
    "#SAFECAT = downloadProduct('SpireAutomatedFeatureExtractionCATalogue/SAFECAT_v2_restFrame.fits.gz', dataDir)\n",
    "#\n",
    "# read directly the table in memory from URL\n",
    "SAFECAT = Table.read(f'{archive}/SpireAutomatedFeatureExtractionCATalogue/SAFECAT_v2_restFrame.fits.gz')\n",
    "SAFECAT.info()"
   ]
  },
  {
   "cell_type": "code",
   "execution_count": 5,
   "metadata": {},
   "outputs": [
    {
     "name": "stdout",
     "output_type": "stream",
     "text": [
      "<Table length=8446>\n",
      "     name       dtype   unit  n_bad\n",
      "-------------- ------- ------ -----\n",
      "         obsid   int32            0\n",
      "         opDay   int32            0\n",
      "     frequency float64    GHz     0\n",
      "frequencyError float64    GHz     0\n",
      " restFrameFreq float64    GHz     0\n",
      "           SNR float64            0\n",
      "         array  bytes3            0\n",
      "           row   int32            0\n",
      "        column   int32            0\n",
      "            ra float64            0\n",
      "           dec float64            0\n",
      "   featureFlag float64            0\n",
      "      velocity float64 km / s     0\n",
      " velocityError float64 km / s  1816\n",
      "         vFlag  bytes5            0\n",
      "        extent bytes12            0\n",
      "   calibration bytes14            0\n",
      "      sampling bytes12            0\n",
      "          hpdp   int32            0\n",
      "           bgs   int32            0\n",
      "       nccFlag   int32            0\n"
     ]
    }
   ],
   "source": [
    "#\n",
    "# now serch all features within a freqneucny range\n",
    "#\n",
    "freqRange = (806.0, 809.0)  #GHz\n",
    "restFrame = True\n",
    "\n",
    "column = 'frequency'\n",
    "if restFrame:\n",
    "    column = 'restFrameFreq'\n",
    "\n",
    "ind = np.where((SAFECAT[column] <= max(freqRange)) & (SAFECAT[column] >= min(freqRange)))[0]\n",
    "out = SAFECAT[ind]\n",
    "#\n",
    "out.info()"
   ]
  },
  {
   "cell_type": "markdown",
   "metadata": {},
   "source": [
    "The `out` object is a table with only those entries from `SAFECAT` meeting the search criteria. Queries using other search criteria can be accomplished using a similar format. Below we demostrate queries based on radial velocity and observation identification number (`obsid`)."
   ]
  },
  {
   "cell_type": "code",
   "execution_count": 7,
   "metadata": {},
   "outputs": [
    {
     "name": "stdout",
     "output_type": "stream",
     "text": [
      "Found 4 features\n"
     ]
    }
   ],
   "source": [
    "# velociy range\n",
    "velRange = (1000.0, 1020.0) #km/s\n",
    "column = 'velocity'\n",
    "\n",
    "ind = np.where((SAFECAT[column] <= max(velRange)) & (SAFECAT[column] >= min(velRange)))[0]\n",
    "print (\"Found {} features\".format(len(ind)))\n",
    "#out = SAFECAT[ind]"
   ]
  },
  {
   "cell_type": "code",
   "execution_count": 8,
   "metadata": {},
   "outputs": [
    {
     "name": "stdout",
     "output_type": "stream",
     "text": [
      "Found 438 features in OBSID 1342243604\n"
     ]
    }
   ],
   "source": [
    "# obsid\n",
    "obsid = 1342243604\n",
    "column = 'obsid'\n",
    "\n",
    "ind = np.where(SAFECAT[column] == obsid)[0]\n",
    "print (\"Found {} features in OBSID {}\".format(len(ind),obsid))\n",
    "out = SAFECAT[ind]"
   ]
  },
  {
   "cell_type": "markdown",
   "metadata": {},
   "source": [
    "As a final example, we demonstrate how to query results based on sky coordinates. Hereschel uses the equatorial coordinate system with right ascension (RA) and declination (DEC) recorded in units of degrees. Converting from HH:MM:SS to degrees can be accomplished easily using the `SkyCoord` method in the astropy module (see documentation for proper implementation)."
   ]
  },
  {
   "cell_type": "code",
   "execution_count": 9,
   "metadata": {},
   "outputs": [],
   "source": [
    "# coordinates\n",
    "ra_in = '21 7 1.7' # HH:MM:SS\n",
    "dec_in = '42 14 11' # DD:MM:SS\n",
    "\n",
    "# conversion\n",
    "c = SkyCoord(ra_in,dec_in,frame='icrs',unit=(u.hourangle, u.deg))\n",
    "ra = c.ra.deg\n",
    "dec = c.dec.deg\n",
    "\n",
    "# search radius\n",
    "radius = 0.5 * u.arcmin #arcmin"
   ]
  },
  {
   "cell_type": "code",
   "execution_count": 11,
   "metadata": {},
   "outputs": [
    {
     "name": "stdout",
     "output_type": "stream",
     "text": [
      "Found 1093 features around <SkyCoord (ICRS): (ra, dec) in deg\n",
      "    (316.75708333, 42.23638889)> in radius 0.5 arcmin\n",
      "Number of unique obsids: 32\n"
     ]
    }
   ],
   "source": [
    "#\n",
    "# we use astropy.coordinates methods for catalogue matching and separarion\n",
    "#\n",
    "catalog = SkyCoord(SAFECAT['ra'],SAFECAT['dec'],frame='icrs',unit=(u.deg,u.deg))\n",
    "d2d = c.separation(catalog)\n",
    "mask = d2d <= radius\n",
    "ind = np.where(mask)[0]\n",
    "print (\"Found {} features around {} in radius {}\".format(len(ind),c,radius))\n",
    "out = SAFECAT[ind]\n",
    "# print unique obsids\n",
    "obsids = np.unique(out['obsid'])\n",
    "print('Number of unique obsids:', len(obsids))"
   ]
  },
  {
   "cell_type": "markdown",
   "metadata": {},
   "source": [
    "# Visual Inspection\n",
    "The FF products include postcards for quick inspection of the FF resuts. These postcards can be opened using Python as demonstrated below. To do this efficiently, one must know the obsid, calibration scheme, and observation mode for the source of interest. This information is encoded in the SAFECAT, and by extension the `out` tablesusing the column headings/keys \"obsid\", \"calibration\", and \"sampling\", respectively."
   ]
  },
  {
   "cell_type": "code",
   "execution_count": 13,
   "metadata": {},
   "outputs": [],
   "source": [
    "obsid = 1342191234\n",
    "column = 'obsid'\n",
    "\n",
    "ind = np.where(SAFECAT[column] == obsid)[0]\n",
    "out =SAFECAT[ind]\n",
    "\n",
    "cal = out['calibration'][0] # options: 'extended', 'pointSource'\n",
    "obs_mod = out['sampling'][0] # options: 'full', 'sparse'\n",
    "hpdp = int(out['hpdp'][0])\n",
    "bgs = int(out['bgs'][0])\n",
    "specType = ''\n",
    "if hpdp:\n",
    "    specType = 'HPDP'\n",
    "elif bgs:\n",
    "    specType = 'BGS'\n",
    "else:\n",
    "    specType = 'SPG'"
   ]
  },
  {
   "cell_type": "code",
   "execution_count": 19,
   "metadata": {},
   "outputs": [],
   "source": [
    "#\n",
    "# utility def to return the URLs for the postcard, the features catalogue and the continuum file\n",
    "#\n",
    "def getPaths(obsid, cal, obs_mod):\n",
    "    pntDir = f'{archive}/HRpointProducts' # directory for point source calibrated sparse observations\n",
    "    extDir = f'{archive}/HRextProducts' # directory for extended source calibrated sparse observations\n",
    "    mapDir = f'{archive}/HRmapping' # directory for extended source calibrated full sampling observations (mapping)\n",
    "    if ('full' in obs_mod or 'intermediate' in obs_mod) and ('extended' in cal):\n",
    "        pFile = f'{mapDir}/postcards/{obsid}_postcard_comb_2x3.png'\n",
    "        obsFile = f'{mapDir}/featureCatalogues/{obsid}_featuresFound.fits'\n",
    "        contFile = f'{mapDir}/continuumParameters/{obsid}_fittedContinuumParameters.fits'\n",
    "    elif ('sparse' in obs_mod) and (cal == 'pointSource'):\n",
    "        # PNG postcards are in a hidden folder\n",
    "        pFile = f'{archive}/.images/postcards_png/{obsid}_postcard_pnt.png'\n",
    "        obsFile = f'{pntDir}/featureCatalogues/{obsid}_featuresFound_pnt.fits'\n",
    "        contFile = f'{pntDir}/continuumParameters/{obsid}_fittedContinuumParameters_pnt.fits'\n",
    "    elif ('sparse' in obs_mod) and ('extended' in cal):\n",
    "        pFile = f'{archive}/.images/postcards_png/{obsid}_postcard_ext.png'\n",
    "        obsFile = f'{extDir}/featureCatalogues/{obsid}_featuresFound_ext.fits'\n",
    "        contFile = f'{extDir}/continuumParameters/{obsid}_fittedContinuumParameters_ext.fits'\n",
    "    else:\n",
    "        print('Invalid inputs')\n",
    "        pFile = None\n",
    "        obsFile = None\n",
    "        contFile = None\n",
    "    #\n",
    "    # now check if those files are available\n",
    "    #\n",
    "    r = http.request('HEAD',pFile)\n",
    "    if (r.status != 200):\n",
    "        print (\"Warning, postcard file {pFile} not found\")\n",
    "        pFile = None\n",
    "    r = http.request('HEAD',obsFile)\n",
    "    if (r.status != 200):\n",
    "        print (\"Warning, featureFinder table {obsFile} not found\")\n",
    "        obsFile = None\n",
    "    r = http.request('HEAD',contFile)\n",
    "    if (r.status != 200):\n",
    "        print (\"Warning, continuum file {contFile} not found\")\n",
    "        contFile = None\n",
    "    #\n",
    "    return pFile, obsFile, contFile"
   ]
  },
  {
   "cell_type": "code",
   "execution_count": 20,
   "metadata": {},
   "outputs": [
    {
     "name": "stdout",
     "output_type": "stream",
     "text": [
      "Postcard location:  http://archives.esac.esa.int/hsa/legacy/HPDP/SPIRE/SPIRE-S/spectral_feature_catalogue//.images/postcards_png/1342191234_postcard_pnt.png\n"
     ]
    },
    {
     "data": {
      "image/png": "[encoded data removed]",
      "text/plain": [
       "<Figure size 432x288 with 1 Axes>"
      ]
     },
     "metadata": {
      "needs_background": "light"
     },
     "output_type": "display_data"
    }
   ],
   "source": [
    "pURL, obsURL, contURL = getPaths(obsid, cal, obs_mod)\n",
    "print('Postcard location: ', pURL)\n",
    "img = mpimg.imread(pURL)\n",
    "plt.imshow(img)\n",
    "plt.show()\n",
    "#webbrowser.open_new(pURL)"
   ]
  },
  {
   "cell_type": "markdown",
   "metadata": {},
   "source": [
    "The `obsURL` and `contURL` variables point to the files containing the features catalogue and fitted continuum parameters for the specified observation. These will be used later.\n",
    "\n",
    "It is also possible to download SPIRE spectral data directly from the Herschel Science Archive (HSA) using Python. These data can then be plotted along with features detected by the FF meeting a search criteria. Manipulating SPIRE spectral cubes is accomplished using the \"spectral-cube\" package of astropy, which may need to be installed by the user. SPIRE spectral data can be retrieved using the function `getSpireFtsData` defined below. \n",
    "\n",
    "Note that the `getSpireFtsData` function returns both \"naive\" and \"convolved\" spectral maps, and has options for both \"apodized\" and \"unapodized\" spectra. FF products, however, are only available for unapodized convolved spectral maps. Additionally, for sparse observations, the `getSpireFtsData` function is configured to return spectra from only the central \"SLWC3\" and \"SSWD4\" detectors. For sparse observations, FF products are only available for unapodized spectra from the central detectors. \n",
    "\n",
    "It should also be noted that many sparse observations processed by the FF use Highly Processed Data Products (HPDPs; http://archives.esac.esa.int/hsa/legacy/HPDP/SPIRE/SPIRE-S/cal_targets/) or Background Subtracted data (BGS; http://archives.esac.esa.int/hsa/legacy/HPDP/SPIRE/SPIRE-S/BKGS/). These specra are stored in a different location that the Standard Product Generation (SPG) spectra. To retrieve to spectrum processed by the FF, the appropriate data type (`specType`) must be specified in the `getSpireFtsData` function. "
   ]
  },
  {
   "cell_type": "code",
   "execution_count": 57,
   "metadata": {},
   "outputs": [],
   "source": [
    "def getSpireFtsData(obsid, cal, obs_mod, specType, apod=False, cache=True, tmpDir=\"\"):\n",
    "    \"\"\"\n",
    "    Using the HTTP access to HAIO, retrieve the level-2 products in a tar file\n",
    "    and extract only the requested fits files\n",
    "    \n",
    "    cubeType can be 'convol' or 'naive'\n",
    "    apod controls whether to extract the apodized version (if True)\n",
    "    \n",
    "    simple caching is impemented, checking of a tar file with the same name (OBSID based) already exists\n",
    "    at the default folder.\n",
    "    \"\"\"\n",
    "    \n",
    "    spg_url = \"http://archives.esac.esa.int/hsa/aio/jsp/\"\n",
    "    hpdp_url = \"http://archives.esac.esa.int/hsa/legacy/HPDP/SPIRE/SPIRE-S/cal_targets/SPIREspec_calibrators/\"\n",
    "    bgs_url = \"http://archives.esac.esa.int/hsa/legacy/HPDP/SPIRE/SPIRE-S/BKGS/spectra/\"\n",
    "    \n",
    "    if obs_mod != 'full':\n",
    "        detectors = ['SLWC3', 'SSWD4']\n",
    "        specDets = {det:[] for det in detectors}\n",
    "        headers = {det:[] for det in detectors}\n",
    "    if specType == 'SPG':\n",
    "        vers = '_spg_'\n",
    "        if (apod): \n",
    "            vers = '_spgApod_'\n",
    "        tarFile = tmpDir + \"/%i_FTS_level2.tar\"%obsid\n",
    "        if (os.path.isfile(tarFile) and cache):\n",
    "            print (\"Found an already existing tar file for OBSID %i. Will Use it\"%obsid)\n",
    "        else:\n",
    "            haioRequest = spg_url + \"product.jsp?PROTOCOL=HTTP&OBSERVATION_ID=%i&PRODUCT_LEVEL=Level2\"%obsid\n",
    "            print (\"Downloading level-2 data from the Herschel Science Archive. May take a while... be patient\")\n",
    "            r = requests.get(haioRequest)\n",
    "            with open(tarFile, \"wb\") as tmp:\n",
    "                tmp.write(r.content)\n",
    "        # now read the downloaded tar file.\n",
    "        with tarfile.open(tarFile,'r') as tar:\n",
    "            if obs_mod == 'full': # mapping observations \n",
    "                cube = {}\n",
    "                headers = {}\n",
    "                for member in tar.getmembers():\n",
    "                    if (('_20ssc_' in member.name) and (vers in member.name)):\n",
    "                        ctype = 'naive'\n",
    "                        if ('convol' in member.name):\n",
    "                            ctype = 'convol'\n",
    "                        f=tar.extractfile(member)\n",
    "                        xx = fits.open(gzip.open(io.BytesIO(f.read())))\n",
    "                        detx = xx[0].header['DETECTOR']\n",
    "                        res = xx[0].header['PROC_RES']\n",
    "                        # comined key for the output dictionary\n",
    "                        xkey = \"%s_%s_%s\"%(detx,res,ctype)\n",
    "                        cubeData = xx['image'].data\n",
    "                        header = xx['image'].header\n",
    "                        header[\"CTYPE3\"] = \"FREQ\"\n",
    "                        cube[xkey]= SpectralCube(data=cubeData, wcs=WCS(header))\n",
    "                        headers[xkey] = xx[0].header\n",
    "                return cube, headers, header\n",
    "            elif obs_mod == 'sparse': # sparse observations\n",
    "                calDict = {'pointSource':'point', 'extended':'ext'} \n",
    "                for member in tar.getmembers():\n",
    "                    if (('_20s' in member.name) and (vers in member.name) and (calDict[cal] in member.name)):\n",
    "                        f=tar.extractfile(member)\n",
    "                        xx = fits.open(gzip.open(io.BytesIO(f.read())))\n",
    "    else:\n",
    "        if specType == 'HPDP':\n",
    "            r = requests.get(hpdp_url)\n",
    "            url = hpdp_url\n",
    "        elif specType == 'BGS':\n",
    "            r = requests.get(bgs_url)\n",
    "            url = bgs_url\n",
    "        else:\n",
    "            print(\"Invalid specType\")\n",
    "            return False, False\n",
    "        i_start = int(r.text.find(str(obsid)))\n",
    "        if i_start == -1:\n",
    "            print(\"No %s for observation %i\"%(specType,obsid))\n",
    "            return False, False\n",
    "        i_end = i_start + int(r.text[i_start:].find('gz')) + 2\n",
    "        gzFile = tmpDir + \"/\" + r.text[i_start:i_end]\n",
    "        if (os.path.isfile(gzFile) and cache):\n",
    "            print (\"Found an already existing gz file for OBSID %i. Will Use it\"%obsid)\n",
    "        else:\n",
    "            haioRequest = url + r.text[i_start:i_end]\n",
    "            print (\"Downloading %s data from the Archive. May take a while... be patient\"%specType)\n",
    "            r = requests.get(haioRequest)\n",
    "            with open(gzFile, \"wb\") as tmp:\n",
    "                tmp.write(r.content)\n",
    "        xx = fits.open(gzip.open(gzFile))\n",
    "    header0 = xx[0].header\n",
    "    for det in detectors:\n",
    "        specDets[det] = xx[det].data\n",
    "        headers[det] = xx[det].header\n",
    "    return specDets, header0, headers"
   ]
  },
  {
   "cell_type": "markdown",
   "metadata": {},
   "source": [
    "### Sparse FF Producs and SPIRE Spectral Datasets\n",
    "\n",
    "Currently our code is pointed at the observation 1342191234 which is a point source calibared sparse observation. To retrieve the SPIRE level-2 spectral data for this observation, we call the `getSpireFtsData` function as demonstrated below."
   ]
  },
  {
   "cell_type": "code",
   "execution_count": 53,
   "metadata": {},
   "outputs": [
    {
     "name": "stdout",
     "output_type": "stream",
     "text": [
      "Found an already existing tar file for OBSID 1342191234. Will Use it\n",
      "\n",
      "Data keys: dict_keys(['SLWC3', 'SSWD4'])\n",
      "Header keys: dict_keys(['SLWC3', 'SSWD4'])\n"
     ]
    },
    {
     "data": {
      "text/plain": [
       "'CPD -56 8032'"
      ]
     },
     "execution_count": 53,
     "metadata": {},
     "output_type": "execute_result"
    }
   ],
   "source": [
    "specData, header0, headers = getSpireFtsData(obsid, cal, obs_mod, specType, apod=False, cache=True, tmpDir=dataDir)\n",
    "\n",
    "print('\\nData keys:', specData.keys())\n",
    "print('Header keys:', headers.keys())\n",
    "target = header0['OBJECT']\n",
    "target"
   ]
  },
  {
   "cell_type": "markdown",
   "metadata": {},
   "source": [
    "As can be seen, the \"specData\" and \"headers\" dictionaries contain entries for both central detectors. We will focus primarily on the frequency and flux axes of the spectral data. For more details about the data structure of SPIRE observations, the reader is referred to the SPIRE data reduction guide at http://herschel.esac.esa.int/hcss-doc-15.0/\n",
    "\n",
    "With the spectral data in hand, we can now generate a plot of the spectral data and include the fitted continuum and additional lines to indicate spectral features detected by the FF. In principle, we could search the SAFECAT for the desired features as demonstrated above. This time, however, we will extracte the desired lines from the features catalogue specific to the 1342191234 observation. The location of the observation specific features catalogue and its fitted continuum parameters are currently stored in the `obsFile` and `contFile` variables, respectively, defined above. When plotting lines to indicated the position of desired features, these lines will be proportional to the associated SNRs of the features, much like the lines in the FF postcards. "
   ]
  },
  {
   "cell_type": "code",
   "execution_count": 32,
   "metadata": {},
   "outputs": [
    {
     "data": {
      "text/plain": [
       "<Table length=24>\n",
       "     name       dtype  unit\n",
       "-------------- ------- ----\n",
       "     frequency float64  GHz\n",
       "frequencyError float64  GHz\n",
       "           SNR float64     \n",
       "      detector  bytes5     \n",
       "   featureFlag float64     \n",
       "       nccFlag   int32     "
      ]
     },
     "execution_count": 32,
     "metadata": {},
     "output_type": "execute_result"
    }
   ],
   "source": [
    "# download observation specific catalogue and continuum, directly from the URL\n",
    "data = Table.read(obsURL)\n",
    "data.info"
   ]
  },
  {
   "cell_type": "code",
   "execution_count": 33,
   "metadata": {},
   "outputs": [
    {
     "name": "stdout",
     "output_type": "stream",
     "text": [
      "Found 14 features\n"
     ]
    }
   ],
   "source": [
    "features = data['frequency']\n",
    "snr = data['SNR']\n",
    "detector = data['detector']\n",
    "velocity = data.meta['RV']\n",
    "velocity_error = data.meta['RV_ERR']\n",
    "\n",
    "# select lines of interest\n",
    "freqRange = (900.0, 1500.0)\n",
    "ind = np.where((features >= min(freqRange)) & (features <= max(freqRange)))[0]\n",
    "print (\"Found {} features\".format(len(ind)))"
   ]
  },
  {
   "cell_type": "code",
   "execution_count": 34,
   "metadata": {},
   "outputs": [
    {
     "data": {
      "text/html": [
       "<i>Table length=2</i>\n",
       "<table id=\"table112184644104\" class=\"table-striped table-bordered table-condensed\">\n",
       "<thead><tr><th>detector</th><th>p0</th><th>p0err</th><th>p1</th><th>p1err</th><th>p2</th><th>p2err</th><th>p3</th><th>p3err</th></tr></thead>\n",
       "<thead><tr><th>bytes5</th><th>float64</th><th>float64</th><th>float64</th><th>float64</th><th>float64</th><th>float64</th><th>float64</th><th>float64</th></tr></thead>\n",
       "<tr><td>SLWC3</td><td>2.0803172315680443</td><td>0.8643134589692292</td><td>-0.008540590145382785</td><td>0.0037327835377905993</td><td>1.2376406836031502e-05</td><td>5.2236273324398726e-06</td><td>-6.141814602446233e-10</td><td>2.3742383765307368e-09</td></tr>\n",
       "<tr><td>SSWD4</td><td>4.3619082632774555</td><td>3.5053072243985115</td><td>-0.010111665122179932</td><td>0.00854822033671272</td><td>9.76269162287522e-06</td><td>6.872664414606499e-06</td><td>1.6774531123453056e-09</td><td>1.8224158102806011e-09</td></tr>\n",
       "</table>"
      ],
      "text/plain": [
       "<Table length=2>\n",
       "detector         p0         ...           p3                   p3err         \n",
       " bytes5       float64       ...        float64                float64        \n",
       "-------- ------------------ ... ---------------------- ----------------------\n",
       "   SLWC3 2.0803172315680443 ... -6.141814602446233e-10 2.3742383765307368e-09\n",
       "   SSWD4 4.3619082632774555 ... 1.6774531123453056e-09 1.8224158102806011e-09"
      ]
     },
     "execution_count": 34,
     "metadata": {},
     "output_type": "execute_result"
    }
   ],
   "source": [
    "cont = Table.read(contURL)\n",
    "cont"
   ]
  },
  {
   "cell_type": "code",
   "execution_count": 35,
   "metadata": {},
   "outputs": [],
   "source": [
    "x_slw, y_slw = specData['SLWC3']['wave'], specData['SLWC3']['flux']\n",
    "x_ssw, y_ssw = specData['SSWD4']['wave'], specData['SSWD4']['flux']\n",
    "cont_slw = cont['p0'][0] + cont['p1'][0]*x_slw + cont['p2'][0]*x_slw**2 + cont['p3'][0]*x_slw**3\n",
    "cont_ssw = cont['p0'][1] + cont['p1'][1]*x_ssw + cont['p2'][1]*x_ssw**2 + cont['p3'][1]*x_ssw**3\n",
    "flux_range = (max([max(y_slw),max(y_ssw)]) - min([min(y_slw),min(y_ssw)]))\n",
    "offset = flux_range*0.05\n",
    "scale = flux_range/max(snr)/2.0"
   ]
  },
  {
   "cell_type": "code",
   "execution_count": 54,
   "metadata": {},
   "outputs": [
    {
     "data": {
      "image/png": "[encoded data removed]",
      "text/plain": [
       "<Figure size 432x288 with 1 Axes>"
      ]
     },
     "metadata": {
      "needs_background": "light"
     },
     "output_type": "display_data"
    }
   ],
   "source": [
    "# plotting\n",
    "fig = plt.figure(0)\n",
    "plt.clf()\n",
    "plt.title('SPIRE Observation %i, target: %s\\nRV = %.2f $\\\\pm$ %.2f [km/s]'%(obsid, target, velocity, velocity_error))\n",
    "plt.plot(x_slw, y_slw, 'r', label='SLWC3')\n",
    "plt.plot(x_ssw, y_ssw, 'b', label='SSWD4')\n",
    "plt.plot(x_slw, cont_slw, 'g', linewidth=2.0, label='continuum')\n",
    "plt.plot(x_ssw, cont_ssw, 'g', linewidth=2.0)\n",
    "for i in ind:\n",
    "    freq = features[i]\n",
    "    sn = snr[i]*scale\n",
    "    det = detector[i]\n",
    "    base = specData[det]['flux'][np.where(min(abs(specData[det]['wave'] - freq)) == abs(specData[det]['wave'] - freq))[0]]\n",
    "    plt.plot([freq, freq], [base+offset, base+offset+sn], 'k')\n",
    "limits = plt.ylim()\n",
    "plt.plot([min(freqRange), min(freqRange)],[min(limits), max(limits)], '--k')\n",
    "plt.plot([max(freqRange), max(freqRange)],[min(limits), max(limits)], '--k')\n",
    "plt.ylim(limits)\n",
    "plt.xlabel('%s [%s]'%(headers['SLWC3'].comments['TTYPE1'],headers['SLWC3']['TUNIT1']))\n",
    "plt.ylabel('%s [%s]'%(headers['SLWC3'].comments['TTYPE2'],headers['SLWC3']['TUNIT2']))\n",
    "plt.legend(loc=0);"
   ]
  },
  {
   "cell_type": "markdown",
   "metadata": {},
   "source": [
    "### Mapping FF Producs and SPIRE Spectral Datasets\n",
    "\n",
    "We now turn to mapping observations. SPIRE data for mapping observations is packaged into \"spectral cubes\" which are 3-dimensional data structures. Two axes correspond to pixel coordinates wich represent different locations on-sky. The third axis corresponds to the spectral data. Various cubes for the same mapping observation can be accessed from the HSA and retrieved using the `getSpireFtsData` fucntion. FF products, however, are only available for High Resolution (HR) unapodized SLW and SSW convolved cubes. Details about the varous cubes can be found in the SPIRE data reduction guide at http://herschel.esac.esa.int/hcss-doc-15.0/ \n",
    "\n",
    "We begin by reassigning some vaiables, and retrieving the SPIRE data for a mapping observation."
   ]
  },
  {
   "cell_type": "code",
   "execution_count": 55,
   "metadata": {},
   "outputs": [
    {
     "name": "stdout",
     "output_type": "stream",
     "text": [
      "Postcard location:  http://archives.esac.esa.int/hsa/legacy/HPDP/SPIRE/SPIRE-S/spectral_feature_catalogue/HRmapping/postcards/1342192174_postcard_comb_2x3.png\n"
     ]
    },
    {
     "data": {
      "image/png": "[encoded data removed]",
      "text/plain": [
       "<Figure size 432x288 with 1 Axes>"
      ]
     },
     "metadata": {
      "needs_background": "light"
     },
     "output_type": "display_data"
    }
   ],
   "source": [
    "obsid = 1342192174\n",
    "cal = 'extended'\n",
    "obs_mod = 'full'\n",
    "specType = 'SPG'\n",
    "\n",
    "pURL, obsURL, contURL = getPaths(obsid, cal, obs_mod)\n",
    "print('Postcard location: ', pURL)\n",
    "img = mpimg.imread(pURL)\n",
    "plt.imshow(img)\n",
    "plt.show()"
   ]
  },
  {
   "cell_type": "code",
   "execution_count": 67,
   "metadata": {},
   "outputs": [
    {
     "name": "stdout",
     "output_type": "stream",
     "text": [
      "Found an already existing tar file for OBSID 1342192174. Will Use it\n",
      "Target: OrionBar_map2\n"
     ]
    }
   ],
   "source": [
    "#webbrowser.open_new(archive + pURL)\n",
    "\n",
    "specData, header0, headers = getSpireFtsData(obsid, cal, obs_mod, specType, apod=False, cache=True, tmpDir=dataDir)\n",
    "cube_slw, cube_ssw = specData['SLW_HR_convol'], specData['SSW_HR_convol']\n",
    "header_slw, header_ssw = cube_slw.header, cube_ssw.header\n",
    "d_slw, d_ssw = header_slw['CDELT2'], header_ssw['CDELT2']  # pixel widths of SLW and SSW maps, respectively\n",
    "for kk in header0.keys(): target = header0[kk][\"OBJECT\"] ; break\n",
    "print (f'Target: {target}')"
   ]
  },
  {
   "cell_type": "code",
   "execution_count": 68,
   "metadata": {},
   "outputs": [
    {
     "name": "stdout",
     "output_type": "stream",
     "text": [
      "Target: OrionBar_map2\n",
      "SLW Cube\n",
      " Shape: 15 Rows, 13 Columns \n",
      " Pixel width: 0.0049 [deg]\n",
      "SSW Cube\n",
      " Shape: 27 Rows, 25 Columns \n",
      " Pixel width: 0.0026 [deg]\n"
     ]
    }
   ],
   "source": [
    "print (\"Target: %s\"%target)\n",
    "print('SLW Cube\\n Shape: %i Rows, %i Columns'%(header_slw['NAXIS2'], header_slw['NAXIS1']),\\\n",
    "      '\\n Pixel width: %0.4f [%s]'%(d_slw, header_slw['CUNIT2']))\n",
    "print('SSW Cube\\n Shape: %i Rows, %i Columns'%(header_ssw['NAXIS2'], header_ssw['NAXIS1']),\\\n",
    "      '\\n Pixel width: %0.4f [%s]'%(d_ssw, header_ssw['CUNIT2']))"
   ]
  },
  {
   "cell_type": "markdown",
   "metadata": {},
   "source": [
    "As can be inferred from the dimensions of the SLW and SSW maps, in addition to their respective pixel widths, the SLW and SSW maps do not occupy the same footprint on-sky. This disparity can be easily seen in the mapping postcard. As such, one needs to take care when selecting SLW and SSW pixels if one wishes to inspect the same location on-sky with both maps. Below we demonstrat how to find the nearest SLW pixel given an initial SSW pixel using the FF products. We perform this operation with the observation specific features catalogue but the process in nearly identical when performed on the SAFECAT."
   ]
  },
  {
   "cell_type": "code",
   "execution_count": 71,
   "metadata": {
    "scrolled": true
   },
   "outputs": [
    {
     "name": "stdout",
     "output_type": "stream",
     "text": [
      "Filename: /Users/ivaltcha/.astropy/cache/download/py3/03a994f9a5a66024c7941ed25b403608\n",
      "No.    Name      Ver    Type      Cards   Dimensions   Format\n",
      "  0  PRIMARY       1 PrimaryHDU      65   ()      \n",
      "  1  data          1 BinTableHDU    148   6573R x 13C   [1D, 1D, 1D, 3A, 1K, 1K, 1D, 1D, 1D, 1D, 1D, 3A, 1J]   \n",
      "  2  velocity      1 BinTableHDU    128   27R x 25C   [1D, 1D, 1D, 1D, 1D, 1D, 1D, 1D, 1D, 1D, 1D, 1D, 1D, 1D, 1D, 1D, 1D, 1D, 1D, 1D, 1D, 1D, 1D, 1D, 1D]   \n",
      "  3  velocityError    1 BinTableHDU    128   27R x 25C   [1D, 1D, 1D, 1D, 1D, 1D, 1D, 1D, 1D, 1D, 1D, 1D, 1D, 1D, 1D, 1D, 1D, 1D, 1D, 1D, 1D, 1D, 1D, 1D, 1D]   \n",
      "  4  vFlags        1 BinTableHDU    153   27R x 25C   [6A, 6A, 6A, 6A, 6A, 6A, 6A, 6A, 6A, 6A, 6A, 6A, 6A, 6A, 6A, 6A, 6A, 6A, 6A, 6A, 6A, 6A, 6A, 6A, 6A]   \n",
      "  5  nLines        1 BinTableHDU    128   27R x 25C   [1D, 1D, 1D, 1D, 1D, 1D, 1D, 1D, 1D, 1D, 1D, 1D, 1D, 1D, 1D, 1D, 1D, 1D, 1D, 1D, 1D, 1D, 1D, 1D, 1D]   \n",
      "  6  arrays        1 BinTableHDU    153   27R x 25C   [3A, 3A, 2A, 2A, 2A, 2A, 2A, 2A, 2A, 2A, 2A, 2A, 2A, 2A, 2A, 2A, 2A, 2A, 2A, 2A, 2A, 2A, 2A, 3A, 3A]   \n"
     ]
    }
   ],
   "source": [
    "# download observation specific catalogue\n",
    "# cannot use Table for multi-extension tables\n",
    "hdu = fits.open(obsURL)\n",
    "hdu.info()\n",
    "FF_data = hdu['data']\n",
    "velocity_map = hdu['velocity']\n",
    "header = hdu['data'].header\n",
    "hdu.close()"
   ]
  },
  {
   "cell_type": "markdown",
   "metadata": {},
   "source": [
    "## (IVAN) up to here with modifications"
   ]
  },
  {
   "cell_type": "code",
   "execution_count": 18,
   "metadata": {
    "scrolled": true
   },
   "outputs": [
    {
     "name": "stdout",
     "output_type": "stream",
     "text": [
      "Product already downloaded\n",
      "Product already downloaded\n"
     ]
    }
   ],
   "source": [
    "contFile = downloadProduct(contURL, dataDir)\n",
    "# reference SSW pixel (SPIRE data)\n",
    "c_col = int(header_ssw['CRPIX1'])-1\n",
    "c_row = int(header_ssw['CRPIX2'])-1\n",
    "c_ra, c_dec = header_ssw['CRVAL1'], header_ssw['CRVAL2']"
   ]
  },
  {
   "cell_type": "code",
   "execution_count": 19,
   "metadata": {},
   "outputs": [],
   "source": [
    "#wcs = WCS(header_ssw)\n",
    "#c = SkyCoord(c_ra,c_dec,frame='icrs',unit=(u.deg, u.deg))\n",
    "#xp,yp = c.to_pixel(wcs)\n",
    "#print (xp,yp,c_row,c_col)"
   ]
  },
  {
   "cell_type": "code",
   "execution_count": 20,
   "metadata": {
    "scrolled": true
   },
   "outputs": [],
   "source": [
    "# get indicies for all entries from reference SSW pixel (FF products)\n",
    "ssw_ind = np.where((FF_data['row'] == (c_row)) & (FF_data['column'] == c_col) & (FF_data['array'] == 'SSW'))[0]\n",
    "ssw_ra, ssw_dec = np.unique(FF_data['ra'][ssw_ind]), np.unique(FF_data['dec'][ssw_ind])\n",
    "ssw_row, ssw_col = np.unique(FF_data['row'][ssw_ind]), np.unique(FF_data['column'][ssw_ind])"
   ]
  },
  {
   "cell_type": "code",
   "execution_count": 23,
   "metadata": {},
   "outputs": [
    {
     "name": "stdout",
     "output_type": "stream",
     "text": [
      "12.0 [12] 13.000000000015792 [13]\n"
     ]
    }
   ],
   "source": [
    "wcs = WCS(header_ssw)\n",
    "c = SkyCoord(ssw_ra[0],ssw_dec[0],frame='icrs',unit=(u.deg, u.deg))\n",
    "xp,yp = c.to_pixel(wcs)\n",
    "print (xp,ssw_col,yp,ssw_row)"
   ]
  },
  {
   "cell_type": "code",
   "execution_count": 24,
   "metadata": {
    "scrolled": true
   },
   "outputs": [
    {
     "name": "stdout",
     "output_type": "stream",
     "text": [
      "SPIRE data and FF product coordinates DO match within half resolution of SSW mapping pixel.\n",
      "\n",
      "     row   column\n",
      "SLW   7    6\n",
      "SSW   13    12\n",
      "\n",
      "FF coordinates of central SSW pixel = (83.832625, -5.424556)\n",
      "FF coordinates of nearest SLW pixel = (83.832625, -5.424556)\n"
     ]
    }
   ],
   "source": [
    "# check that we are looking at the same on-sky location\n",
    "if (min(abs(ssw_ra - c_ra)) > d_ssw/2.0) or (min(abs(ssw_dec - c_dec)) > d_ssw/2.0):\n",
    "    print('SPIRE data and FF product coordinates do NOT match within half resolution of SSW mapping pixel.')\n",
    "else:\n",
    "    print('SPIRE data and FF product coordinates DO match within half resolution of SSW mapping pixel.')\n",
    "    \n",
    "# get indicies for all entries from SLW pixel nearest central SSW pixel (FF products)\n",
    "slw_ind = np.where((abs(FF_data['ra'] - ssw_ra) <= d_slw/2.0) & (abs(FF_data['dec'] - ssw_dec) <= d_slw/2.0)\\\n",
    "                   & (FF_data['array'] == 'SLW'))[0]\n",
    "slw_ra, slw_dec = np.unique(FF_data['ra'][slw_ind]), np.unique(FF_data['dec'][slw_ind])\n",
    "slw_row, slw_col = np.unique(FF_data['row'][slw_ind]), np.unique(FF_data['column'][slw_ind])\n",
    "\n",
    "print('\\n     row   column\\nSLW   %i    %i\\nSSW   %i    %i'%(slw_row, slw_col, ssw_row, ssw_col))\n",
    "print('\\nFF coordinates of central SSW pixel = (%f, %f)'%(ssw_ra[0], ssw_dec[0]))\n",
    "print('FF coordinates of nearest SLW pixel = (%f, %f)'%(slw_ra[0], slw_dec[0]))"
   ]
  },
  {
   "cell_type": "markdown",
   "metadata": {},
   "source": [
    "As can be seen from the above printout, we have successfully located the SLW pixel nearest the central SSW pixel. For our example, the coordinates for both pixels are identical but this need no be the case in general. \n",
    "\n",
    "Having determined which SLW and SSW pixels we wish to inspect, we can now generate a plot similar to the one generated for our example sparse observation. "
   ]
  },
  {
   "cell_type": "code",
   "execution_count": 25,
   "metadata": {},
   "outputs": [],
   "source": [
    "# organize FF results \n",
    "features, snr, array = [], [], []\n",
    "\n",
    "features.extend(FF_data['frequency'][slw_ind])\n",
    "snr.extend(FF_data['snr'][slw_ind])\n",
    "array.extend(FF_data['array'][slw_ind])\n",
    "\n",
    "features.extend(FF_data['frequency'][ssw_ind])\n",
    "snr.extend(FF_data['snr'][ssw_ind])\n",
    "array.extend(FF_data['array'][ssw_ind])\n",
    "\n",
    "features = np.array(features)\n",
    "slw_velocity, ssw_velocity = np.mean(FF_data['velocity'][slw_ind]), np.mean(FF_data['velocity'][ssw_ind])\n",
    "slw_vel_error, ssw_vel_error = np.mean(FF_data['velocityError'][slw_ind]), np.mean(FF_data['velocityError'][ssw_ind])"
   ]
  },
  {
   "cell_type": "code",
   "execution_count": 41,
   "metadata": {},
   "outputs": [],
   "source": [
    "# organize SPIRE data\n",
    "x_slw, y_slw = cube_slw.spectral_axis.value/1.0e9, cube_slw.unmasked_data[:,slw_row[0],slw_col[0]].value\n",
    "x_ssw, y_ssw = cube_ssw.spectral_axis.value/1.0e9, cube_ssw.unmasked_data[:,ssw_row[0],ssw_col[0]].value\n",
    "flux = {'SLW':y_slw, 'SSW':y_ssw}\n",
    "wave = {'SLW':x_slw, 'SSW':x_ssw}"
   ]
  },
  {
   "cell_type": "code",
   "execution_count": 44,
   "metadata": {},
   "outputs": [
    {
     "data": {
      "image/png": "[encoded data removed]",
      "text/plain": [
       "<Figure size 432x288 with 1 Axes>"
      ]
     },
     "metadata": {
      "needs_background": "light"
     },
     "output_type": "display_data"
    }
   ],
   "source": [
    "# generate continua\n",
    "hdulist = fits.open(contFile)\n",
    "cont_data = hdulist[1].data\n",
    "hdulist.close()\n",
    "\n",
    "cont_slw_ind = np.where((cont_data['row'] == slw_row[0]) & (cont_data['column'] == slw_col[0]) & (cont_data['array'] == 'SLW'))[0]\n",
    "cont_ssw_ind = np.where((cont_data['row'] == ssw_row[0]) & (cont_data['column'] == ssw_col[0]) & (cont_data['array'] == 'SSW'))[0]\n",
    "\n",
    "cont_data_slw = {key:vals for (key, vals) in zip(cont_data.names, cont_data[cont_slw_ind[0]])}\n",
    "cont_data_ssw = {key:vals for (key, vals) in zip(cont_data.names, cont_data[cont_ssw_ind[0]])}\n",
    "\n",
    "cont_slw = cont_data_slw['p0'] + cont_data_slw['p1']*x_slw + cont_data_slw['p2']*x_slw**2 + cont_data_slw['p3']*x_slw**3 \n",
    "cont_ssw = cont_data_ssw['p0'] + cont_data_ssw['p1']*x_ssw + cont_data_ssw['p2']*x_ssw**2 + cont_data_ssw['p3']*x_ssw**3\n",
    "flux_range = (max([max(y_slw),max(y_ssw)]) - min([min(y_slw),min(y_ssw)]))\n",
    "offset = flux_range*0.05\n",
    "scale = flux_range/max(snr)/2.\n",
    "\n",
    "# select lines of interest\n",
    "freqRange = (600.0, 1500.0)\n",
    "ind = np.where((features >= min(freqRange)) & (features <= max(freqRange)))[0]\n",
    "\n",
    "# plotting\n",
    "fig = plt.figure(0)\n",
    "plt.clf()\n",
    "plt.title('SPIRE Observation %i\\nRV = %.2f $\\\\pm$ %.2f [km/s]'\\\n",
    "        %(obsid, np.mean([slw_velocity, ssw_velocity]), np.mean([slw_vel_error, ssw_vel_error])))\n",
    "plt.plot(x_slw, y_slw, 'r', label='SLW')\n",
    "plt.plot(x_ssw, y_ssw, 'b', label='SSW')\n",
    "plt.plot(x_slw, cont_slw, 'g', linewidth=2.0, label='continuum')\n",
    "plt.plot(x_ssw, cont_ssw, 'g', linewidth=2.0)\n",
    "for i in ind:\n",
    "    freq = features[i]\n",
    "    sn = snr[i]*scale\n",
    "    ary = array[i]\n",
    "    base = flux[ary][np.where(min(abs(wave[ary] - freq)) == abs(wave[ary] - freq))[0]]\n",
    "    plt.plot([freq, freq], [base+offset, base+offset+sn], 'k')\n",
    "limits = plt.ylim()\n",
    "plt.plot([min(freqRange), min(freqRange)],[min(limits), max(limits)], '--k')\n",
    "plt.plot([max(freqRange), max(freqRange)],[min(limits), max(limits)], '--k')\n",
    "plt.ylim(limits)\n",
    "plt.xlabel('Frequency [GHz]')\n",
    "plt.ylabel('Brightness [W m-2 Hz-1 sr-1]')\n",
    "plt.legend(loc=0);"
   ]
  },
  {
   "cell_type": "code",
   "execution_count": null,
   "metadata": {},
   "outputs": [],
   "source": []
  },
  {
   "cell_type": "markdown",
   "metadata": {},
   "source": [
    "### Velocity Maps\n",
    "\n",
    "stuff"
   ]
  },
  {
   "cell_type": "code",
   "execution_count": 45,
   "metadata": {},
   "outputs": [
    {
     "data": {
      "image/png": "[encoded data removed]",
      "text/plain": [
       "<Figure size 432x288 with 2 Axes>"
      ]
     },
     "metadata": {
      "needs_background": "light"
     },
     "output_type": "display_data"
    }
   ],
   "source": [
    "# generate World Coordinate System (WCS) object from SPIRE HSA observation\n",
    "wcs_hsa = WCS(header_ssw)\n",
    "wcs_new = WCS(naxis=2)\n",
    "\n",
    "wcs_new.wcs.crpix = wcs_hsa.wcs.crpix[:2]\n",
    "wcs_new.wcs.cdelt = wcs_hsa.wcs.cdelt[:2]\n",
    "wcs_new.wcs.crval = wcs_hsa.wcs.crval[:2]\n",
    "wcs_new.wcs.ctype = [\"RA---TAN\", \"DEC--TAN\"]\n",
    "\n",
    "# becasue FITS_rec is weird\n",
    "v_map = []\n",
    "for row in velocity_map:\n",
    "    v_map.append(np.array(row))\n",
    "\n",
    "# plotting\n",
    "fig = plt.figure()\n",
    "fig.add_subplot(111, projection=wcs_new)\n",
    "plt.title('SPIRE Observation %i'%obsid)\n",
    "plt.imshow(v_map,  origin='lower', cmap='jet')\n",
    "plt.colorbar(label='Velocity [%s]'%header['TUNIT11'])\n",
    "plt.xlabel('RA')\n",
    "plt.ylabel('Dec')"
   ]
  },
  {
   "cell_type": "markdown",
   "metadata": {},
   "source": [
    "# Integrated Flux\n",
    "\n",
    "When analysing a spectrum, one is often interested in the integrated flux of spectral features. Integrated flux of spectral features is not provided in the FF products because obtaining accurate values typically requires careful analysis of the associated spectra. With this consideration, we demonstate below a simple approach for obtaining rough estimates of the integrated flux for features detected by the FF. \n",
    "\n",
    "The proposed procedure involves fitting detected features using a Sinc model, which closely approximates the empirical line shape of the SPIRE FTS, and extracting the integraed flux analitically from the fitted line parameters. This process is similar to the method employed by the the standard spectral line fitting analysis sciript used by the Herschel Interactive Processing Environment (HIPE). Typically one would include the continuum in the fitted model, but in our case, we will simply use continumm subtracted spectral data where the fitted continuum is provided by the FF. \n",
    "\n",
    "Note: The Sinc function expresses decaying side-lobes which produce non-local effects in the spectrum. For this reasons, fitting a single spectral feature is not recomnded. The best most phisically real results are obtained when simutaneously fitting all detected features in the spectrum (ie, either the entire SLW or SSW band). We will perform our analysis on the already loaded SLW spectrum from above."
   ]
  },
  {
   "cell_type": "code",
   "execution_count": 46,
   "metadata": {},
   "outputs": [
    {
     "data": {
      "image/png": "[encoded data removed]",
      "text/plain": [
       "<Figure size 432x288 with 1 Axes>"
      ]
     },
     "metadata": {
      "needs_background": "light"
     },
     "output_type": "display_data"
    },
    {
     "name": "stdout",
     "output_type": "stream",
     "text": [
      "Frequency [GHz]     Flux [W m-2 sr-1]     Flux Error [W m-2 sr-1]\n",
      "\n",
      "   461.01               3.87e-08                  5.59e-10\n",
      "\n",
      "   492.14               4.43e-09                  5.58e-10\n",
      "\n",
      "   550.94               1.78e-08                  5.58e-10\n",
      "\n",
      "   576.28               7.3e-08                  5.58e-10\n",
      "\n",
      "   661.08               2.55e-08                  5.58e-10\n",
      "\n",
      "   691.44               1.2e-07                  5.58e-10\n",
      "\n",
      "   771.13               3.66e-08                  5.58e-10\n",
      "\n",
      "   806.62               1.77e-07                  5.61e-10\n",
      "\n",
      "   809.30               2.26e-08                  5.61e-10\n",
      "\n",
      "   835.11               1.11e-08                  5.58e-10\n",
      "\n",
      "   881.25               3.94e-08                  5.58e-10\n",
      "\n",
      "   921.75               2.23e-07                  5.58e-10\n",
      "\n",
      "   991.32               3.68e-08                  5.59e-10\n",
      "\n"
     ]
    }
   ],
   "source": [
    "specIn = y_slw - cont_slw # input continuum subtracted spectrum\n",
    "fitFeatures = sorted(FF_data['frequency'][slw_ind])\n",
    "\n",
    "def sincModel(xdata, amp, cent, width = 1.18448225): \n",
    "    p2 = width/np.pi\n",
    "    arg = (xdata - cent)/p2\n",
    "    return amp*np.sin(arg)/arg\n",
    "\n",
    "totalModel = None\n",
    "specRes = headers['SLW_HR_convol']['ACTRES']\n",
    "prefs = []\n",
    "\n",
    "for i in range(len(fitFeatures)):\n",
    "    pref = '_%i'%i\n",
    "    prefs.append(pref)\n",
    "    freq = fitFeatures[i]\n",
    "    ind = np.where(min(abs(freq - x_slw)) == abs(freq - x_slw))[0]\n",
    "    amp = specIn[ind]\n",
    "    newMod = Model(sincModel, prefix=pref)\n",
    "    newMod.set_param_hint(pref+'amp', value=amp, vary=True)\n",
    "    newMod.set_param_hint(pref+'cent', value=freq, vary=False)\n",
    "    newMod.set_param_hint(pref+'width', value=specRes, vary=False) # set vary to True for partially resolved features\n",
    "    if totalModel == None:\n",
    "        totalModel = newMod\n",
    "    else:\n",
    "        totalModel += newMod\n",
    "        \n",
    "result = totalModel.fit(specIn, xdata=x_slw)\n",
    "\n",
    "fig = plt.figure(0)\n",
    "plt.clf()\n",
    "plt.plot(x_slw, specIn, linewidth=4.0, label='Data')\n",
    "plt.plot(x_slw, result.best_fit, label='Fit')\n",
    "plt.plot(x_slw, result.residual, label='Residual')\n",
    "plt.xlabel('Frequency [GHz]')\n",
    "plt.ylabel('Brightness [W m-2 Hz-1 sr-1]')\n",
    "plt.legend(loc=0)\n",
    "plt.show()\n",
    "\n",
    "fitPars = result.params\n",
    "print('Frequency [GHz]     Flux [W m-2 sr-1]     Flux Error [W m-2 sr-1]\\n')\n",
    "for pref in prefs:\n",
    "    amp = fitPars['%samp'%pref]\n",
    "    freq = fitPars['%scent'%pref]\n",
    "    width = fitPars['%swidth'%pref]\n",
    "    flux = amp.value*1e9*width.value # may need to multiply by pi\n",
    "    fluxErr = flux*np.sqrt((amp.stderr/amp.value)**2 + (width.stderr/width.value)**2)\n",
    "    print('   %.2f               %.3g                  %.3g\\n'%(freq.value, flux, fluxErr))\n"
   ]
  },
  {
   "cell_type": "markdown",
   "metadata": {},
   "source": [
    "The above example was perfomred on a spectrum which has been processed using the extended sources callibration scheme. When integrating line flux for spectra processed using the point-source callibration scheme, the `flux` varriable must be multiplied by 10^-26 to convert from [Jy] to [W m-2 Hz-1]. Additionally, in the above example we have assumed the spectral features are not resloved. When analysing partially or fully resolved spectral features, best results are obtained when modeling the spectral features as Sinc convolved Gaussians. However, for a quick estimate of integrated flux, one can simply set the `vary` keyword for the `width` varriable in the fitter object to True. The large majority of spectral featues in the SPIRE FTS dataset are unresolved and the above script should be sufficient in most cases. "
   ]
  },
  {
   "cell_type": "markdown",
   "metadata": {},
   "source": [
    "# Conclusion\n",
    "\n",
    "stuff 2.0\n"
   ]
  },
  {
   "cell_type": "code",
   "execution_count": null,
   "metadata": {},
   "outputs": [],
   "source": []
  }
 ],
 "metadata": {
  "kernelspec": {
   "display_name": "Python 3",
   "language": "python",
   "name": "python3"
  },
  "language_info": {
   "codemirror_mode": {
    "name": "ipython",
    "version": 3
   },
   "file_extension": ".py",
   "mimetype": "text/x-python",
   "name": "python",
   "nbconvert_exporter": "python",
   "pygments_lexer": "ipython3",
   "version": "3.7.1"
  }
 },
 "nbformat": 4,
 "nbformat_minor": 2
}
